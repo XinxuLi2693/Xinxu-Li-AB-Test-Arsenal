{
 "cells": [
  {
   "cell_type": "markdown",
   "metadata": {},
   "source": [
    "## Notes about this template\n",
    "\n",
    "1. This Jupyter Notebook is a template that must be used for A/B test report, as it is aligned with the grading criteria. Not following this template may have an impact on the grade. Please follow all the instructions included here. \n",
    "2. The appendix with the answers to the Data Ethics Decision Aid is to be handed in on a separate Canvas assignment, and in Word or PDF (not Jupyter notebook). See instructions on Canvas."
   ]
  },
  {
   "cell_type": "markdown",
   "metadata": {},
   "source": [
    "# Title of the Assignment\n",
    "\n",
    "* Student Name: Xinxu Li\n",
    "* Student Number: 14686635\n",
    "* Date: 23/03/2025\n",
    "* Wordcount per section:\n",
    "  * Introduction and Theoretical Justification： 300\n",
    "  * Gathering data:218\n",
    "  * Data Exploration & Evaluation:362\n",
    "  * Evaluation:331\n",
    "  * Limitations and Next Steps: 243\n",
    "  * Ethical and Normative Considerations: 190\n",
    "\n",
    "## Introduction and Theoretical Justification\n",
    "\n",
    "Doing data analysis is not just about crunching the numbers, but also explaining what is being done, and why. Moreover, it is important to document your steps in a way that other analysts (or even yourself) can understand what was done, with what type of data, and based on what assumptions.\n",
    "\n",
    "This section briefly introduces the organization, the communication challenge and proposes a general RQ so that the reader has enough context to understand the actual analysis being done in the notebook. This section also provides theoretical justification leading up to one hypothesis that will be tested in the A/B test.\n",
    "\n"
   ]
  },
  {
   "cell_type": "markdown",
   "metadata": {},
   "source": [
    "____________________________________________________________________________________________________________________________________________________________________________________________________\n",
    "\n",
    "The organization I choose is Arsenal, a globally renowned football club in London with 43 million fans. The analysis object is r/ArsenalFC on Reddit, a fan-run online forum with 138.8k+ followers.\n",
    "\n",
    "According to Kick It Out (n.d.), discrimination, particularly racism, is severe both offline and online. Racism increased by 47% across football in the 2023-2024 season, despite campaigns like #NoRoomForRacism. Arsenal faces similar issues, with racist comments still appearing on social media. The challenge is to understand fans' views on racism in these online communities to improve Arsenal's communication.\n",
    "\n",
    "This data analysis has two goals: to analyze Arsenal fans' emotional responses to racism and to help the club develop a better communication strategy. The aim is to create a more positive forum atmosphere, making fans feel inclusive and improving the club's image, potentially boosting profits and changing prejudices.\n",
    "\n",
    "To achieve this, an A/B test will compare reactions to two communication plans: one based on statistics (e.g., reports of racism incidents) and the other on emotional stories (e.g., personal experiences). I will use Jupyter and Natural Language Processing (NLP) to analyze data from Reddit API, with SentimentIntensityAnalyzer() to gauge emotions in Reddit comments.\n",
    "\n",
    "The research question of my A/B test: Can emotion-driven communication plan influence the r/ArsenalFC users' opinions on racism more than the statistics-driven plan?\n",
    "\n",
    "The hypothesis of my A/B test: Emotion-driven (version_B) can influence the r/ArsenalFC users' opinions on racism more than statistics-driven group (v_A).\n",
    "\n",
    "H1: Emotion-driven (B group) communication plan can let the users spend more visit time on them.\n",
    "\n",
    "H2: Emotion-driven (B group) communication plan can let the users spend more user total unique page views on them.\n",
    "\n",
    "H3：Emotion-driven (B group) communication plan can let users with elder age be engaged in the process.\n",
    "\n",
    "The independent variables: ABtest. A test: only statistical numbers and objective reports; B test: real story, focusing on the victims of racisit and present it with a storyline\n",
    "\n",
    "The dependent variables: referral, visit_len, user_age, user_country_of_origin, user_totalUniquePageviews.\n",
    "\n",
    "Word Count:300"
   ]
  },
  {
   "cell_type": "markdown",
   "metadata": {},
   "source": [
    "## Gathering Data\n",
    "\n",
    "In the cells below you should load the dataset(s) into pandas to begin the data understanding and preparation. It is important to provide the reader with sufficient information to understand how the data were collected, and what the dataset is about. \n",
    "\n",
    "More specifically, you should answer at least adress the following topics in this section:\n",
    "* What is the dataset about? How does it relate to the business challenge?\n",
    "* What is the source of the data? \n",
    "    * You can for example think of Google Analytics or data collected through social media (when e.g., tracking effectiveness of campaigns)\n",
    "* How were the data collected? What type of data collection (and/or sampling) strategy was used, and why? \n",
    "* What are the potential biases that could be introduced in the dataset because of the data collection method?\n",
    "* How was privacy taken in consideration during data collection? What are some of the risks and/or privacy trade-offs that should be considered?\n",
    "\n",
    "As a tip: use a meaningful name for your dataset(s) when loading them into a Pandas dataframe. Calling them just *df* or *data* will become confusing later on.\n",
    "\n",
    "**IMPORTANT:** As part of open science and replicability, it is important to indicate also to the reader where the data is stored or located. In the case of the report, we expect you to upload the dataset to our SurfDrive folder, so we can download the data and replicate your results.\n"
   ]
  },
  {
   "cell_type": "markdown",
   "metadata": {},
   "source": [
    "Before answering the questions, I will firstly import the data into my Jupyter."
   ]
  },
  {
   "cell_type": "code",
   "execution_count": 54,
   "metadata": {},
   "outputs": [],
   "source": [
    "import pandas as pd\n",
    "import numpy as np"
   ]
  },
  {
   "cell_type": "code",
   "execution_count": 55,
   "metadata": {},
   "outputs": [
    {
     "name": "stdout",
     "output_type": "stream",
     "text": [
      "     session_timestamp                                             device  \\\n",
      "0  2024-02-05 18:24:42  Mozilla/5.0 (compatible; MSIE 7.0; Windows NT ...   \n",
      "1  2024-02-04 12:28:07  Mozilla/5.0 (compatible; MSIE 5.0; Windows 95;...   \n",
      "2  2024-02-12 05:14:07  Mozilla/5.0 (compatible; MSIE 7.0; Windows NT ...   \n",
      "3  2024-02-12 09:51:52  Mozilla/5.0 (compatible; MSIE 8.0; Windows 98;...   \n",
      "4  2024-02-13 04:25:39  Mozilla/5.0 (Linux; Android 1.6) AppleWebKit/5...   \n",
      "\n",
      "      ABtest                       referral  visit_len screenresolution  \\\n",
      "0  version_B                     google.com     1992.0        1280  800   \n",
      "1        v_A                     google.com     2737.0       1920  1200   \n",
      "2  version_B                 skyscanner.com     1955.0       2560  1080   \n",
      "3        NaN                      tikto.com     3717.0        1280  720   \n",
      "4        v_A  http://www.williams-dyer.com/     2228.0        1536  864   \n",
      "\n",
      "   sessioninfo_id  userid  \n",
      "0           21856       0  \n",
      "1           21857       1  \n",
      "2           21858       2  \n",
      "3           21859       3  \n",
      "4           21860       4  \n"
     ]
    }
   ],
   "source": [
    "import pandas as pd\n",
    "\n",
    "file_path = r\"C:\\Users\\Xinxu\\Desktop\\Graded challenge 2\\Li_Xinxu_s_metrics.csv.gz\"\n",
    "df_metrics_csv = pd.read_csv(file_path, compression=\"gzip\")  \n",
    "\n",
    "print(df_metrics_csv.head())  # check the first five lines"
   ]
  },
  {
   "cell_type": "markdown",
   "metadata": {},
   "source": [
    "Session time stamp means when the users start their conversations. Device means on what type of device they logged in to their accounts. AB test means the outcome of AB test. Referral means through which channel did the users log in. Visit_len means the duration of their visit. Screenresolution and sessioninfo_id are more technical, not very helpful to answer my question. Userid is to differentiate every individual."
   ]
  },
  {
   "cell_type": "code",
   "execution_count": 56,
   "metadata": {},
   "outputs": [
    {
     "name": "stdout",
     "output_type": "stream",
     "text": [
      "   user_age user_country_of_origin  user_totalUniquePageviews  \\\n",
      "0        50                     NL                          6   \n",
      "1        47                    NaN                          3   \n",
      "2        79                     ZW                          3   \n",
      "3        34                     NL                          9   \n",
      "4        23                     NL                         13   \n",
      "\n",
      "   user_sessionCount     id  \n",
      "0                  4  11285  \n",
      "1                  1  13049  \n",
      "2                  3   1903  \n",
      "3                  2   1246  \n",
      "4                  1  10420  \n"
     ]
    }
   ],
   "source": [
    "import pandas as pd\n",
    "\n",
    "file_path = r\"C:\\Users\\Xinxu\\Desktop\\OneDrive_1_3-11-2025\\Li_Xinxu_s_metrics_users.csv.gz\"\n",
    "df_metrics_users_csv = pd.read_csv(file_path, compression=\"gzip\") \n",
    "\n",
    "print(df_metrics_users_csv.head())  # check the first five lines"
   ]
  },
  {
   "cell_type": "markdown",
   "metadata": {},
   "source": [
    "This dataset is more about users' information. Ages, countries (where they log in), how many pages they have read and how many times they start conversations are listed here. "
   ]
  },
  {
   "cell_type": "code",
   "execution_count": 57,
   "metadata": {},
   "outputs": [
    {
     "name": "stdout",
     "output_type": "stream",
     "text": [
      "      user_age user_country_of_origin user_totalUniquePageviews  \\\n",
      "11285       50                     NL                         6   \n",
      "13049       47                    NaN                         3   \n",
      "1903        79                     ZW                         3   \n",
      "1246        34                     NL                         9   \n",
      "10420       23                     NL                        13   \n",
      "\n",
      "      user_sessionCount     id  \n",
      "11285                 4  11285  \n",
      "13049                 1  13049  \n",
      "1903                  3   1903  \n",
      "1246                  2   1246  \n",
      "10420                 1  10420  \n"
     ]
    }
   ],
   "source": [
    "import pandas as pd\n",
    "\n",
    "file_path = r\"C:\\Users\\Xinxu\\Desktop\\OneDrive_1_3-11-2025\\Li_Xinxu_s_metrics_users.pkl.gz\"\n",
    "df_metrics_users_pkl = pd.read_pickle(file_path, compression=\"gzip\")  \n",
    "\n",
    "print(df_metrics_users_pkl.head())  #check the first five lines"
   ]
  },
  {
   "cell_type": "markdown",
   "metadata": {},
   "source": [
    "It can be concluded that this dataset is almost similar to the metrics csv document. Maybe we can consider merging them or at least only keeping one of them."
   ]
  },
  {
   "cell_type": "code",
   "execution_count": 58,
   "metadata": {},
   "outputs": [
    {
     "name": "stdout",
     "output_type": "stream",
     "text": [
      "     session_timestamp                                             device  \\\n",
      "0  2024-02-05 18:24:42  Mozilla/5.0 (compatible; MSIE 7.0; Windows NT ...   \n",
      "1  2024-02-04 12:28:07  Mozilla/5.0 (compatible; MSIE 5.0; Windows 95;...   \n",
      "2  2024-02-12 05:14:07  Mozilla/5.0 (compatible; MSIE 7.0; Windows NT ...   \n",
      "3  2024-02-12 09:51:52  Mozilla/5.0 (compatible; MSIE 8.0; Windows 98;...   \n",
      "4  2024-02-13 04:25:39  Mozilla/5.0 (Linux; Android 1.6) AppleWebKit/5...   \n",
      "\n",
      "      ABtest                       referral visit_len screenresolution  \\\n",
      "0  version_B                     google.com    1992.0        1280  800   \n",
      "1        v_A                     google.com    2737.0       1920  1200   \n",
      "2  version_B                 skyscanner.com    1955.0       2560  1080   \n",
      "3        NaN                      tikto.com    3717.0        1280  720   \n",
      "4        v_A  http://www.williams-dyer.com/    2228.0        1536  864   \n",
      "\n",
      "  sessioninfo_id userid  \n",
      "0          21856      0  \n",
      "1          21857      1  \n",
      "2          21858      2  \n",
      "3          21859      3  \n",
      "4          21860      4  \n"
     ]
    }
   ],
   "source": [
    "import pandas as pd\n",
    "\n",
    "file_path = r\"C:\\Users\\Xinxu\\Desktop\\OneDrive_1_3-11-2025\\Li_Xinxu_s_metrics.pkl.gz\"\n",
    "df_metrics_pkl = pd.read_pickle(file_path, compression=\"gzip\")  \n",
    "\n",
    "print(df_metrics_pkl.head())  # check the first five lines"
   ]
  },
  {
   "cell_type": "markdown",
   "metadata": {},
   "source": [
    "————————————————————————————————————————————————————————————————————————————————————————————————————————————————————————————————————————————————————————————————————————————————————————————————————\n",
    "\n",
    "**1. What is the dataset about and how it links with business challenge:**\n",
    "\n",
    "The dataset is about an A/B test comparing different Arsenal's communication strategies to see what makes users stay longer in different communication plans on social media. For example, users' visit_len on emotion-driven (B test) content may be longer, proving emotional communication is more effective than statistical plans. We also check user_age and country of origin to see which age groups interact more with emotional content. This can help refine Arsenal’s communication plan for tackling racism in online forums through audience segmentation.\n",
    "\n",
    "**2. Source of the data:**\n",
    "\n",
    "The data is downloaded from the Drive provided by UvA but is actually from Reddit API, originating from r/Arsenal subreddit, established by Arsenal fans.\n",
    "\n",
    "**3. How were the data collected:**\n",
    "\n",
    "Data is collected using the Reddit API via Praw, a Python library. A Reddit app is set up to interact with the data and extract posts.\n",
    "\n",
    "**4. Methods used:**\n",
    "\n",
    "Praw and a for-loop were used to manage and extract Reddit data.\n",
    "\n",
    "**5. Potential biases:**\n",
    "\n",
    "The data from r/Arsenal may not represent all Arsenal fans' opinions, and subreddit demographics could be different from other platforms.\n",
    "\n",
    "**6. Privacy concerns:**\n",
    "\n",
    "Reddit data is anonymous, but re-identification risks exist. Privacy concerns should be addressed by following Reddit's terms of use.\n",
    "\n",
    "Word Count: 218"
   ]
  },
  {
   "cell_type": "markdown",
   "metadata": {},
   "source": [
    "## Data Cleaning\n",
    "\n",
    "As discussed during the tutorials, the stages of data understanding (which we call *Data Exploration & Evaluation* in the evaluation criteria) and data preparation (which we call *Data Cleaning* in the evaluation criteria) are iterative steps, with a lot of back and forth until you have a usable dataset.\n",
    "\n",
    "In this stage, we expect you to meet the criteria included in the course guide. While doing this, you need to make sure that you are also clearly communicating what is being done in each step. This includes:\n",
    "* Identifying the key variables that your study will use\n",
    "* Explaining to the reader what these variables are\n",
    "* Performing the steps regarding data cleaning and data exploration as indicated on Canvas (briefing)\n",
    "* Explaining to the reader at each step what is being done, and what the output/result means\n",
    "\n",
    "**IMPORTANT:**\n",
    "* You only need to do the cleaning and exploration for the variables that are *relevant* to your study. You can skip variables/columns in the dataset that are absolutely irrelevant to your study. This will also allow you to minimize the dataset.\n",
    "* You need to communicate your steps clearly to the reader. This means that you should not just do a *df.describe()*  to communicate descriptive statistics in a dataset that contains a lot of irrelevant columns and expect the reader to figure out by her or himself what is relevant. You should instead only show to the reader what is relevant, and explain why.\n",
    "* If you use functions to categorize your data, you should explain how the functions were built (or where they came from), and what is being done."
   ]
  },
  {
   "cell_type": "markdown",
   "metadata": {
    "collapsed": true,
    "jupyter": {
     "outputs_hidden": true
    }
   },
   "source": [
    "1. The key variables that my study will use:\n",
    "The key variables are respectively AB Test， referral and visit_len in metrics dataset as well as user_age, user_country_of_origin and user_Totalpageview in user_metrics datasets.\n",
    "\n",
    "2. What these variables are:\n",
    "AB test is the categorization of the target users，in which some of them were grouped to be version A (reaction of seeing statistical report of racism) and version B (reaction of seeing true-story report of racism).\n",
    "\n",
    "Referral is the different interface the users log in to their account. For example, some users log in through Google.\n",
    "\n",
    "Visit_len means the duration that a user spend on in the forum.\n",
    "\n",
    "User_age means users' ages. It is calculated by the birthday they put in when they signed up for their Reddit account.\n",
    "\n",
    "User_country_of_orgin means users' nationality. It is extracted by the nationality users put it when they signed up for their Reddit account.\n",
    "\n",
    "User_Totalpageview means how many pages did the user read. "
   ]
  },
  {
   "cell_type": "markdown",
   "metadata": {},
   "source": [
    "3. To clean the data, I will use several codes below:"
   ]
  },
  {
   "cell_type": "code",
   "execution_count": 59,
   "metadata": {},
   "outputs": [
    {
     "name": "stdout",
     "output_type": "stream",
     "text": [
      "session_timestamp       0\n",
      "device                  0\n",
      "ABtest               6043\n",
      "referral                0\n",
      "visit_len               1\n",
      "screenresolution        0\n",
      "sessioninfo_id          0\n",
      "userid                  0\n",
      "dtype: int64\n"
     ]
    }
   ],
   "source": [
    "#Li_Xinxu_s_metrics.csv\n",
    "print(df_metrics_csv.isnull().sum())"
   ]
  },
  {
   "cell_type": "markdown",
   "metadata": {},
   "source": [
    "There are 6043 missing values in AB test column. The missing values are actually control groups, which is formed by users not interacting with the anti-racist contents. "
   ]
  },
  {
   "cell_type": "markdown",
   "metadata": {},
   "source": [
    "Since we only need ABtest, referral, visit_len, I will clean out the rest of the variables."
   ]
  },
  {
   "cell_type": "code",
   "execution_count": 60,
   "metadata": {},
   "outputs": [
    {
     "name": "stdout",
     "output_type": "stream",
     "text": [
      "          ABtest                       referral  visit_len\n",
      "0      version_B                     google.com     1992.0\n",
      "1            v_A                     google.com     2737.0\n",
      "2      version_B                 skyscanner.com     1955.0\n",
      "3            NaN                      tikto.com     3717.0\n",
      "4            v_A  http://www.williams-dyer.com/     2228.0\n",
      "...          ...                            ...        ...\n",
      "24216        NaN                     google.com     2131.0\n",
      "24217  version_B                   whatsapp.com     5931.0\n",
      "24218  version_B                     google.com     3280.0\n",
      "24219  version_B                  instagram.com      404.0\n",
      "24220        NaN                     google.com     5963.0\n",
      "\n",
      "[24221 rows x 3 columns]\n"
     ]
    }
   ],
   "source": [
    "df_metrics_csv_cleaned = df_metrics_csv.drop(columns=['session_timestamp', 'device','screenresolution','sessioninfo_id', 'userid'])\n",
    "print(df_metrics_csv_cleaned)"
   ]
  },
  {
   "cell_type": "markdown",
   "metadata": {},
   "source": [
    "I used No_Test to replace NaN to signify control groups."
   ]
  },
  {
   "cell_type": "code",
   "execution_count": 61,
   "metadata": {},
   "outputs": [
    {
     "name": "stdout",
     "output_type": "stream",
     "text": [
      "          ABtest                       referral  visit_len\n",
      "0      version_B                     google.com     1992.0\n",
      "1            v_A                     google.com     2737.0\n",
      "2      version_B                 skyscanner.com     1955.0\n",
      "3        No_Test                      tikto.com     3717.0\n",
      "4            v_A  http://www.williams-dyer.com/     2228.0\n",
      "...          ...                            ...        ...\n",
      "24216    No_Test                     google.com     2131.0\n",
      "24217  version_B                   whatsapp.com     5931.0\n",
      "24218  version_B                     google.com     3280.0\n",
      "24219  version_B                  instagram.com      404.0\n",
      "24220    No_Test                     google.com     5963.0\n",
      "\n",
      "[24221 rows x 3 columns]\n"
     ]
    }
   ],
   "source": [
    "df_metrics_csv_cleaned['ABtest'] = df_metrics_csv_cleaned['ABtest'].fillna(\"No_Test\")\n",
    "print(df_metrics_csv_cleaned)"
   ]
  },
  {
   "cell_type": "markdown",
   "metadata": {},
   "source": [
    "I will store the data to csv."
   ]
  },
  {
   "cell_type": "code",
   "execution_count": 62,
   "metadata": {},
   "outputs": [],
   "source": [
    "df_metrics_csv_cleaned.to_csv(\"df_metrics_csv_cleaned.csv\", index=False)"
   ]
  },
  {
   "cell_type": "markdown",
   "metadata": {},
   "source": [
    "Since the metrics pkl data is exactly the same as the mertics csv one, I will skip the Li_Xinxu_s_metrics.pkl one and directly go to the user_metrics csv document."
   ]
  },
  {
   "cell_type": "markdown",
   "metadata": {},
   "source": [
    "I will check the missing values from the merics_users dataset below."
   ]
  },
  {
   "cell_type": "code",
   "execution_count": 63,
   "metadata": {},
   "outputs": [
    {
     "name": "stdout",
     "output_type": "stream",
     "text": [
      "user_age                        0\n",
      "user_country_of_origin       8304\n",
      "user_totalUniquePageviews       0\n",
      "user_sessionCount               0\n",
      "id                              0\n",
      "dtype: int64\n"
     ]
    }
   ],
   "source": [
    "#Li_Xinxu_s_metrics_users.csv\n",
    "print(df_metrics_users_csv.isnull().sum())"
   ]
  },
  {
   "cell_type": "code",
   "execution_count": 64,
   "metadata": {},
   "outputs": [
    {
     "name": "stdout",
     "output_type": "stream",
     "text": [
      "       user_age user_country_of_origin  user_totalUniquePageviews\n",
      "0            50                     NL                          6\n",
      "1            47                    NaN                          3\n",
      "2            79                     ZW                          3\n",
      "3            34                     NL                          9\n",
      "4            23                     NL                         13\n",
      "...         ...                    ...                        ...\n",
      "19372        29                    NaN                         11\n",
      "19373        30                     NL                         18\n",
      "19374        73                     UG                          7\n",
      "19375        46                     SO                         12\n",
      "19376        41                     NE                          9\n",
      "\n",
      "[19377 rows x 3 columns]\n"
     ]
    }
   ],
   "source": [
    "df_metrics_users_csv_cleaned = df_metrics_users_csv.drop(columns=['user_sessionCount', 'id'])\n",
    "print(df_metrics_users_csv_cleaned)"
   ]
  },
  {
   "cell_type": "markdown",
   "metadata": {},
   "source": [
    "We have the same problem again. There are too many missing values in user_country_of_origin column. Again, this time, I am not going to delete them. I will just use \"No_Test\" to replace them."
   ]
  },
  {
   "cell_type": "code",
   "execution_count": 65,
   "metadata": {},
   "outputs": [
    {
     "name": "stdout",
     "output_type": "stream",
     "text": [
      "       user_age user_country_of_origin  user_totalUniquePageviews\n",
      "0            50                     NL                          6\n",
      "1            47                No_Test                          3\n",
      "2            79                     ZW                          3\n",
      "3            34                     NL                          9\n",
      "4            23                     NL                         13\n",
      "...         ...                    ...                        ...\n",
      "19372        29                No_Test                         11\n",
      "19373        30                     NL                         18\n",
      "19374        73                     UG                          7\n",
      "19375        46                     SO                         12\n",
      "19376        41                     NE                          9\n",
      "\n",
      "[19377 rows x 3 columns]\n"
     ]
    }
   ],
   "source": [
    "df_metrics_users_csv_cleaned['user_country_of_origin'] = df_metrics_users_csv_cleaned['user_country_of_origin'].fillna(\"No_Test\")\n",
    "print(df_metrics_users_csv_cleaned)"
   ]
  },
  {
   "cell_type": "markdown",
   "metadata": {},
   "source": [
    "Store the data:"
   ]
  },
  {
   "cell_type": "code",
   "execution_count": 66,
   "metadata": {},
   "outputs": [],
   "source": [
    "df_metrics_users_csv_cleaned.to_csv(\"df_metrics_users_csv_cleaned.csv\", index=False)"
   ]
  },
  {
   "cell_type": "markdown",
   "metadata": {},
   "source": [
    "Now we can use describe() to see how the numeric values in the two datasets look like."
   ]
  },
  {
   "cell_type": "code",
   "execution_count": 67,
   "metadata": {},
   "outputs": [
    {
     "data": {
      "text/html": [
       "<div>\n",
       "<style scoped>\n",
       "    .dataframe tbody tr th:only-of-type {\n",
       "        vertical-align: middle;\n",
       "    }\n",
       "\n",
       "    .dataframe tbody tr th {\n",
       "        vertical-align: top;\n",
       "    }\n",
       "\n",
       "    .dataframe thead th {\n",
       "        text-align: right;\n",
       "    }\n",
       "</style>\n",
       "<table border=\"1\" class=\"dataframe\">\n",
       "  <thead>\n",
       "    <tr style=\"text-align: right;\">\n",
       "      <th></th>\n",
       "      <th>visit_len</th>\n",
       "    </tr>\n",
       "  </thead>\n",
       "  <tbody>\n",
       "    <tr>\n",
       "      <th>count</th>\n",
       "      <td>24220.000000</td>\n",
       "    </tr>\n",
       "    <tr>\n",
       "      <th>mean</th>\n",
       "      <td>3000.566598</td>\n",
       "    </tr>\n",
       "    <tr>\n",
       "      <th>std</th>\n",
       "      <td>1730.960614</td>\n",
       "    </tr>\n",
       "    <tr>\n",
       "      <th>min</th>\n",
       "      <td>1.000000</td>\n",
       "    </tr>\n",
       "    <tr>\n",
       "      <th>25%</th>\n",
       "      <td>1500.000000</td>\n",
       "    </tr>\n",
       "    <tr>\n",
       "      <th>50%</th>\n",
       "      <td>2988.000000</td>\n",
       "    </tr>\n",
       "    <tr>\n",
       "      <th>75%</th>\n",
       "      <td>4492.000000</td>\n",
       "    </tr>\n",
       "    <tr>\n",
       "      <th>max</th>\n",
       "      <td>5999.000000</td>\n",
       "    </tr>\n",
       "  </tbody>\n",
       "</table>\n",
       "</div>"
      ],
      "text/plain": [
       "          visit_len\n",
       "count  24220.000000\n",
       "mean    3000.566598\n",
       "std     1730.960614\n",
       "min        1.000000\n",
       "25%     1500.000000\n",
       "50%     2988.000000\n",
       "75%     4492.000000\n",
       "max     5999.000000"
      ]
     },
     "execution_count": 67,
     "metadata": {},
     "output_type": "execute_result"
    }
   ],
   "source": [
    "df_metrics_csv_cleaned.describe()"
   ]
  },
  {
   "cell_type": "code",
   "execution_count": 68,
   "metadata": {},
   "outputs": [
    {
     "data": {
      "text/html": [
       "<div>\n",
       "<style scoped>\n",
       "    .dataframe tbody tr th:only-of-type {\n",
       "        vertical-align: middle;\n",
       "    }\n",
       "\n",
       "    .dataframe tbody tr th {\n",
       "        vertical-align: top;\n",
       "    }\n",
       "\n",
       "    .dataframe thead th {\n",
       "        text-align: right;\n",
       "    }\n",
       "</style>\n",
       "<table border=\"1\" class=\"dataframe\">\n",
       "  <thead>\n",
       "    <tr style=\"text-align: right;\">\n",
       "      <th></th>\n",
       "      <th>user_age</th>\n",
       "      <th>user_totalUniquePageviews</th>\n",
       "    </tr>\n",
       "  </thead>\n",
       "  <tbody>\n",
       "    <tr>\n",
       "      <th>count</th>\n",
       "      <td>19377.000000</td>\n",
       "      <td>19377.000000</td>\n",
       "    </tr>\n",
       "    <tr>\n",
       "      <th>mean</th>\n",
       "      <td>49.772411</td>\n",
       "      <td>9.963410</td>\n",
       "    </tr>\n",
       "    <tr>\n",
       "      <th>std</th>\n",
       "      <td>19.721579</td>\n",
       "      <td>5.488968</td>\n",
       "    </tr>\n",
       "    <tr>\n",
       "      <th>min</th>\n",
       "      <td>16.000000</td>\n",
       "      <td>1.000000</td>\n",
       "    </tr>\n",
       "    <tr>\n",
       "      <th>25%</th>\n",
       "      <td>33.000000</td>\n",
       "      <td>5.000000</td>\n",
       "    </tr>\n",
       "    <tr>\n",
       "      <th>50%</th>\n",
       "      <td>50.000000</td>\n",
       "      <td>10.000000</td>\n",
       "    </tr>\n",
       "    <tr>\n",
       "      <th>75%</th>\n",
       "      <td>67.000000</td>\n",
       "      <td>15.000000</td>\n",
       "    </tr>\n",
       "    <tr>\n",
       "      <th>max</th>\n",
       "      <td>84.000000</td>\n",
       "      <td>19.000000</td>\n",
       "    </tr>\n",
       "  </tbody>\n",
       "</table>\n",
       "</div>"
      ],
      "text/plain": [
       "           user_age  user_totalUniquePageviews\n",
       "count  19377.000000               19377.000000\n",
       "mean      49.772411                   9.963410\n",
       "std       19.721579                   5.488968\n",
       "min       16.000000                   1.000000\n",
       "25%       33.000000                   5.000000\n",
       "50%       50.000000                  10.000000\n",
       "75%       67.000000                  15.000000\n",
       "max       84.000000                  19.000000"
      ]
     },
     "execution_count": 68,
     "metadata": {},
     "output_type": "execute_result"
    }
   ],
   "source": [
    "df_metrics_users_csv_cleaned.describe()"
   ]
  },
  {
   "cell_type": "markdown",
   "metadata": {},
   "source": [
    "I thought about merging two csv documents, but in the end I am afraid it will cause chaos. I would rather analyze them respectively."
   ]
  },
  {
   "cell_type": "markdown",
   "metadata": {},
   "source": [
    "## Data Exploration & Evaluation\n",
    "\n",
    "In this stage, *after the dataset is considered clean*, you are expected to show to the reader how the final dataset looks like, and perform an exploratory review of the data. At all times, you are expected to write a report-out to stakeholders (i.e., not only show the data, but also explain what the data show).\n",
    "\n",
    "This includes:\n",
    "* Descriptives and definitions of all key variables in a clear manner\n",
    "* Univariate visualizations for key variables \n",
    "* Visualization of key bivariate relationships (e.g., related to hypotheses or RQs)\n",
    "* Checking the data for biases and unbalance (e.g., unequal distributed variables, missing cases)\n",
    "* Writing a report-out to stakeholders summarising the findings of the data exploration (including what the data already show when it comes to the RQ & hypothesis, and potential risks of bias and unbalance)\n",
    "\n",
    "Key variables are all variables that are used as DV's or IV's in your hypotheses or RQs.\n",
    "\n",
    "\n",
    "**IMPORTANT:**\n",
    "* You only need to do the exploration for the variables that are *relevant* to your study. You can skip variables/columns in the dataset that are absolutely irrelevant to your study.\n",
    "* You need to communicate your steps clearly to the reader. This means that you should not just do a *df.describe()*  to communicate descriptive statistics in a dataset that contains a lot of irrelevant columns and expect the reader to figure out by her or himself what is relevant. You should instead only show to the reader what is relevant, and explain why.\n",
    "\n",
    "\n"
   ]
  },
  {
   "cell_type": "code",
   "execution_count": 69,
   "metadata": {},
   "outputs": [
    {
     "name": "stdout",
     "output_type": "stream",
     "text": [
      "      ABtest                       referral  visit_len\n",
      "0  version_B                     google.com     1992.0\n",
      "1        v_A                     google.com     2737.0\n",
      "2  version_B                 skyscanner.com     1955.0\n",
      "3    No_Test                      tikto.com     3717.0\n",
      "4        v_A  http://www.williams-dyer.com/     2228.0\n",
      "<class 'pandas.core.frame.DataFrame'>\n",
      "RangeIndex: 24221 entries, 0 to 24220\n",
      "Data columns (total 3 columns):\n",
      " #   Column     Non-Null Count  Dtype  \n",
      "---  ------     --------------  -----  \n",
      " 0   ABtest     24221 non-null  object \n",
      " 1   referral   24221 non-null  object \n",
      " 2   visit_len  24220 non-null  float64\n",
      "dtypes: float64(1), object(2)\n",
      "memory usage: 567.8+ KB\n",
      "None\n"
     ]
    }
   ],
   "source": [
    "#To show the dataset of the key variables:\n",
    "print(df_metrics_csv_cleaned.head())\n",
    "print(df_metrics_csv_cleaned.info())"
   ]
  },
  {
   "cell_type": "code",
   "execution_count": 70,
   "metadata": {},
   "outputs": [
    {
     "name": "stdout",
     "output_type": "stream",
     "text": [
      "   user_age user_country_of_origin  user_totalUniquePageviews\n",
      "0        50                     NL                          6\n",
      "1        47                No_Test                          3\n",
      "2        79                     ZW                          3\n",
      "3        34                     NL                          9\n",
      "4        23                     NL                         13\n",
      "<class 'pandas.core.frame.DataFrame'>\n",
      "RangeIndex: 19377 entries, 0 to 19376\n",
      "Data columns (total 3 columns):\n",
      " #   Column                     Non-Null Count  Dtype \n",
      "---  ------                     --------------  ----- \n",
      " 0   user_age                   19377 non-null  int64 \n",
      " 1   user_country_of_origin     19377 non-null  object\n",
      " 2   user_totalUniquePageviews  19377 non-null  int64 \n",
      "dtypes: int64(2), object(1)\n",
      "memory usage: 454.3+ KB\n",
      "None\n"
     ]
    }
   ],
   "source": [
    "print(df_metrics_users_csv_cleaned.head())\n",
    "print(df_metrics_users_csv_cleaned.info())"
   ]
  },
  {
   "cell_type": "code",
   "execution_count": 71,
   "metadata": {},
   "outputs": [
    {
     "name": "stderr",
     "output_type": "stream",
     "text": [
      "C:\\Users\\Xinxu\\AppData\\Local\\Temp\\ipykernel_8572\\1490436074.py:8: FutureWarning: \n",
      "\n",
      "Passing `palette` without assigning `hue` is deprecated and will be removed in v0.14.0. Assign the `x` variable to `hue` and set `legend=False` for the same effect.\n",
      "\n",
      "  sns.countplot(x=df_metrics_csv_cleaned[\"ABtest\"], palette=\"colorblind\")\n"
     ]
    },
    {
     "data": {
      "image/png": "[encoded data removed]",
      "text/plain": [
       "<Figure size 600x400 with 1 Axes>"
      ]
     },
     "metadata": {},
     "output_type": "display_data"
    }
   ],
   "source": [
    "#Univariate the datasets\n",
    "\n",
    "import matplotlib.pyplot as plt\n",
    "import seaborn as sns\n",
    "\n",
    "# Metrics csv document\n",
    "plt.figure(figsize=(6,4))\n",
    "sns.countplot(x=df_metrics_csv_cleaned[\"ABtest\"], palette=\"colorblind\")\n",
    "plt.title(\"Distribution of AB Test Groups\")\n",
    "plt.xlabel(\"AB Test Group\")\n",
    "plt.ylabel(\"Count\")\n",
    "plt.xticks(rotation=45)\n",
    "plt.show()"
   ]
  },
  {
   "cell_type": "markdown",
   "metadata": {},
   "source": [
    "This is an absolutely meaningless and disgusting diagram. I will categorize the referral first."
   ]
  },
  {
   "cell_type": "code",
   "execution_count": 72,
   "metadata": {},
   "outputs": [
    {
     "data": {
      "image/png": "[encoded data removed]",
      "text/plain": [
       "<Figure size 1000x600 with 1 Axes>"
      ]
     },
     "metadata": {},
     "output_type": "display_data"
    }
   ],
   "source": [
    "# top 10 referrals\n",
    "top_referrals = df_metrics_csv_cleaned['referral'].value_counts().head(10)\n",
    "\n",
    "\n",
    "plt.figure(figsize=(10,6))\n",
    "top_referrals.plot(kind='bar', color=\"lightcoral\")\n",
    "plt.title(\"Top 10 Referral Counts\")\n",
    "plt.xlabel(\"Referral\")\n",
    "plt.ylabel(\"Count\")\n",
    "plt.xticks(rotation=45, ha='right')  \n",
    "plt.show()"
   ]
  },
  {
   "cell_type": "markdown",
   "metadata": {},
   "source": [
    "The most popular referral is google, following by instagram, facebook and skyscanner. "
   ]
  },
  {
   "cell_type": "markdown",
   "metadata": {},
   "source": [
    "I will use boxplot below, since it categorizes the data. "
   ]
  },
  {
   "cell_type": "code",
   "execution_count": 44,
   "metadata": {},
   "outputs": [
    {
     "data": {
      "image/png": "[encoded data removed]",
      "text/plain": [
       "<Figure size 600x400 with 1 Axes>"
      ]
     },
     "metadata": {},
     "output_type": "display_data"
    }
   ],
   "source": [
    "plt.figure(figsize=(6,4))\n",
    "sns.boxplot(x=df_metrics_csv_cleaned[\"visit_len\"], color=\"lightcoral\")\n",
    "plt.title(\"Boxplot of Visit Lens\")\n",
    "plt.xlabel(\"Visit Lens\")\n",
    "plt.show()"
   ]
  },
  {
   "cell_type": "markdown",
   "metadata": {},
   "source": [
    "The visit lens of the users are between about 1500 to 4500."
   ]
  },
  {
   "cell_type": "code",
   "execution_count": 46,
   "metadata": {},
   "outputs": [
    {
     "data": {
      "image/png": "[encoded data removed]",
      "text/plain": [
       "<Figure size 600x400 with 1 Axes>"
      ]
     },
     "metadata": {},
     "output_type": "display_data"
    }
   ],
   "source": [
    "#Metrics_users csv document\n",
    "plt.figure(figsize=(6,4))\n",
    "sns.boxplot(x=df_metrics_users_csv_cleaned[\"user_age\"], color=\"lightcoral\")\n",
    "plt.title(\"Boxplot of User Age\")\n",
    "plt.xlabel(\"Age\")\n",
    "plt.show()"
   ]
  },
  {
   "cell_type": "markdown",
   "metadata": {},
   "source": [
    "The users on this forum are between 33 years old to about 67 years old. "
   ]
  },
  {
   "cell_type": "markdown",
   "metadata": {},
   "source": [
    "There are too many different countries in the world, so it is hard to use any kinds of diagrams to include all of them. The problem is not on the type of the diagram, but more on what kinds of data should I select.\n",
    "\n",
    "I decided to only present 10 most frequent countries, like I did in referral graphic."
   ]
  },
  {
   "cell_type": "code",
   "execution_count": 47,
   "metadata": {},
   "outputs": [
    {
     "name": "stderr",
     "output_type": "stream",
     "text": [
      "C:\\Users\\Xinxu\\AppData\\Local\\Temp\\ipykernel_3616\\595848553.py:6: FutureWarning: \n",
      "\n",
      "Passing `palette` without assigning `hue` is deprecated and will be removed in v0.14.0. Assign the `x` variable to `hue` and set `legend=False` for the same effect.\n",
      "\n",
      "  sns.barplot(x=top_n_countries.index, y=top_n_countries.values, palette=\"Set2\")\n"
     ]
    },
    {
     "data": {
      "image/png": "[encoded data removed]",
      "text/plain": [
       "<Figure size 1000x600 with 1 Axes>"
      ]
     },
     "metadata": {},
     "output_type": "display_data"
    }
   ],
   "source": [
    "# First, choose the top 10 countries. That's what nlargest() made for.\n",
    "top_n_countries = df_metrics_users_csv_cleaned[\"user_country_of_origin\"].value_counts().nlargest(10)\n",
    "\n",
    "\n",
    "plt.figure(figsize=(10,6))\n",
    "sns.barplot(x=top_n_countries.index, y=top_n_countries.values, palette=\"Set2\")\n",
    "plt.title(\"Top 10 Countries of Origin\")\n",
    "plt.xlabel(\"Country of Origin\")\n",
    "plt.ylabel(\"Count\")\n",
    "plt.xticks(rotation=45)\n",
    "plt.show()"
   ]
  },
  {
   "cell_type": "markdown",
   "metadata": {},
   "source": [
    "According to ISO 3166-1 alpha-2, NL refers to the Netherlands. PY refers to Paraguay. HIN is unrecognizable. GT refers to Guatemala. AE refers to United Arab Emirates. PH refers to Philippines. LY refers to Libya. MU refers to Mauritius. MK refers to North Macedonia. \n",
    "\n",
    "The country of origin covers Europe, Latin America, Middle-East and Asia and Africa. "
   ]
  },
  {
   "cell_type": "code",
   "execution_count": 42,
   "metadata": {},
   "outputs": [
    {
     "name": "stderr",
     "output_type": "stream",
     "text": [
      "C:\\Users\\Xinxu\\AppData\\Local\\Temp\\ipykernel_3616\\2284052142.py:2: FutureWarning: \n",
      "\n",
      "Passing `palette` without assigning `hue` is deprecated and will be removed in v0.14.0. Assign the `x` variable to `hue` and set `legend=False` for the same effect.\n",
      "\n",
      "  sns.countplot(x=df_metrics_users_csv_cleaned[\"user_totalUniquePageviews\"], palette=\"Set2\")\n"
     ]
    },
    {
     "data": {
      "image/png": "[encoded data removed]",
      "text/plain": [
       "<Figure size 1000x600 with 1 Axes>"
      ]
     },
     "metadata": {},
     "output_type": "display_data"
    }
   ],
   "source": [
    "plt.figure(figsize=(10,6))\n",
    "sns.countplot(x=df_metrics_users_csv_cleaned[\"user_totalUniquePageviews\"], palette=\"Set2\")\n",
    "plt.title(\"Distribution of User Pageviews\")\n",
    "plt.xlabel(\"Pageviews\")\n",
    "plt.ylabel(\"Count\")\n",
    "plt.xticks(rotation=45)  # rotate x-axis labels.\n",
    "plt.show()"
   ]
  },
  {
   "cell_type": "markdown",
   "metadata": {},
   "source": [
    "Visualization of key bivariate relationships:"
   ]
  },
  {
   "cell_type": "markdown",
   "metadata": {},
   "source": [
    "For more details about the key variables, please refer to my last section \"Data Cleaning\".\n",
    "In this part, my main task is Exploratory Data Analysis (EDA), aiming to find the relations between two elemensts. Therefore, there is no need to split the data."
   ]
  },
  {
   "cell_type": "markdown",
   "metadata": {},
   "source": [
    "I used Chi-Square test to analyze the relationship between ABtest variables and referral, since both of them are not numerical values, but categoricalv values. Firstly, scipy.stats was imported to ensure the following analysis can be based on it. After that, I calculated the crosstab of ABtest and referral and store them in contigency_table. After data storage, I ran Chi-square test and stats (scipy.stats) to analyze their relationship. \n",
    "\n",
    "After the analysis, I print out the Chi2 statistics, p-value, degrees of freedom and expected frequencies. To make the readers not familiarized with statistics understand the outcome, I added two lines in the end to explain what it means when p<0.05 and if it is not the case (when p>=0.05). \n",
    "\n",
    "The following codes all follow this logic."
   ]
  },
  {
   "cell_type": "code",
   "execution_count": 17,
   "metadata": {},
   "outputs": [
    {
     "name": "stdout",
     "output_type": "stream",
     "text": [
      "Chi2 statistic: 3390.8168019636682\n",
      "p-value: 0.4158619399883651\n",
      "Degrees of freedom: 3374\n",
      "Expected frequencies: \n",
      "[[ 468.79967797  472.29259733 1875.94719458 ...  235.02357458\n",
      "   227.03975889  230.03368977]\n",
      " [ 709.36691301  714.65224392 2838.60022295 ...  355.6272656\n",
      "   343.54650923  348.07679287]\n",
      " [ 700.83340903  706.05515875 2804.45258247 ...  351.34915982\n",
      "   339.41373189  343.88951736]]\n",
      "There is no significant relationship between ABtest and referral.\n"
     ]
    }
   ],
   "source": [
    "#The relationship between AB test and everything\n",
    "#ABtest is categorical variable. \n",
    "#The relationship between AB test and referral.\n",
    "#This is the bivariate visualization of two categorical variables.\n",
    "\n",
    "import scipy.stats as stats\n",
    "\n",
    "# calculate the crosstab of ABtest and referral\n",
    "contingency_table = pd.crosstab(df_metrics_csv_cleaned['ABtest'], df_metrics_csv_cleaned['referral'])\n",
    "\n",
    "# since this is the interplay of two categorical values, we use Chi-square test\n",
    "chi2, p, dof, expected = stats.chi2_contingency(contingency_table)\n",
    "\n",
    "# outcome\n",
    "print(f'Chi2 statistic: {chi2}')\n",
    "print(f'p-value: {p}')\n",
    "print(f'Degrees of freedom: {dof}')\n",
    "print(f'Expected frequencies: \\n{expected}')\n",
    "\n",
    "# p value\n",
    "if p < 0.05:\n",
    "    print(\"There is a significant relationship between ABtest and referral.\")\n",
    "else:\n",
    "    print(\"There is no significant relationship between ABtest and referral.\")"
   ]
  },
  {
   "cell_type": "code",
   "execution_count": 19,
   "metadata": {},
   "outputs": [
    {
     "name": "stdout",
     "output_type": "stream",
     "text": [
      "Chi2 statistic: 11630.589044328393\n",
      "p-value: 0.8282031596827244\n",
      "Degrees of freedom: 11776\n",
      "Expected frequencies: \n",
      "[[0.99801817 0.24950454 1.74653179 ... 0.74851363 1.49702725 1.99603633]\n",
      " [1.5101569  0.37753922 2.64277457 ... 1.13261767 2.26523534 3.02031379]\n",
      " [1.49182494 0.37295623 2.61069364 ... 1.1188687  2.23773741 2.98364988]]\n",
      "There is no significant relationship between ABtest and visit_len.\n"
     ]
    }
   ],
   "source": [
    "# calculate the crosstab of ABtest and visit_len in df_metrics_csv_cleaned doc\n",
    "contingency_table = pd.crosstab(df_metrics_csv_cleaned['ABtest'], df_metrics_csv_cleaned['visit_len'])\n",
    "\n",
    "# since this is the interplay of two categorical values, we use Chi-square test\n",
    "chi2, p, dof, expected = stats.chi2_contingency(contingency_table)\n",
    "\n",
    "# outcome\n",
    "print(f'Chi2 statistic: {chi2}')\n",
    "print(f'p-value: {p}')\n",
    "print(f'Degrees of freedom: {dof}')\n",
    "print(f'Expected frequencies: \\n{expected}')\n",
    "\n",
    "# p value\n",
    "if p < 0.05:\n",
    "    print(\"There is a significant relationship between ABtest and visit_len.\")\n",
    "else:\n",
    "    print(\"There is no significant relationship between ABtest and visit_len.\")"
   ]
  },
  {
   "cell_type": "code",
   "execution_count": 20,
   "metadata": {},
   "outputs": [
    {
     "name": "stdout",
     "output_type": "stream",
     "text": [
      "Chi2 statistic: 136.37345326587283\n",
      "p-value: 0.47486301610757126\n",
      "Degrees of freedom: 136\n",
      "Expected frequencies: \n",
      "[[ 70.27537803  69.52510709  69.7751974   65.27357176  67.02420395\n",
      "   74.27682304  70.02528771  70.02528771  65.77375239  71.77591991\n",
      "   69.27501677  69.02492646  68.52474583  71.02564897  72.77628116\n",
      "   76.27754554  62.02239769  73.02637147  73.27646178  72.52619084\n",
      "   75.5272746   68.27465552  70.52546834  69.52510709  73.02637147\n",
      "   72.02601022  77.02781648  73.02637147  68.52474583  73.27646178\n",
      "   74.27682304  74.77700366  72.02601022  70.52546834  72.02601022\n",
      "   66.0238427   76.02745523  67.27429427  77.2779068   73.5265521\n",
      "   74.77700366  68.27465552  76.77772617  75.02709398  63.27284925\n",
      "   67.02420395  65.77375239  72.52619084  73.02637147  63.02275894\n",
      "   73.77664241  73.27646178  72.27610053  70.27537803  68.77483615\n",
      "   69.52510709  66.0238427   68.27465552  66.52402333  78.77844868\n",
      "   61.52221706  66.52402333  64.27321051  65.27357176  61.02203643\n",
      "   70.27537803  68.77483615  62.272488    73.02637147]\n",
      " [106.23966558 105.10543428 105.48351138  98.67812355 101.32466326\n",
      "  112.28889921 105.86158848 105.86158848  99.43427775 108.50812819\n",
      "  104.72735718 104.34928007 103.59312587 107.37389689 110.0204366\n",
      "  115.31351602  93.76312123 110.3985137  110.7765908  109.6423595\n",
      "  114.17928472 103.21504877 106.61774268 105.10543428 110.3985137\n",
      "  108.88620529 116.44774733 110.3985137  103.59312587 110.7765908\n",
      "  112.28889921 113.04505341 108.88620529 106.61774268 108.88620529\n",
      "   99.81235485 114.93543892 101.70274036 116.82582443 111.15466791\n",
      "  113.04505341 103.21504877 116.06967023 113.42313052  95.65350673\n",
      "  101.32466326  99.43427775 109.6423595  110.3985137   95.27542963\n",
      "  111.53274501 110.7765908  109.2642824  106.23966558 103.97120297\n",
      "  105.10543428  99.81235485 103.21504877 100.56850906 119.09428704\n",
      "   93.00696702 100.56850906  97.16581514  98.67812355  92.25081282\n",
      "  106.23966558 103.97120297  94.14119833 110.3985137 ]\n",
      " [104.48495639 103.36945864 103.74129122  97.04830469  99.65113279\n",
      "  110.43427775 104.11312381 104.11312381  97.79196986 106.7159519\n",
      "  102.99762605 102.62579347 101.8821283  105.60045415 108.20328224\n",
      "  113.40893843  92.21448109 108.57511483 108.94694741 107.83144966\n",
      "  112.29344068 101.51029571 104.85678898 103.36945864 108.57511483\n",
      "  107.08778449 114.52443619 108.57511483 101.8821283  108.94694741\n",
      "  110.43427775 111.17794292 107.08778449 104.85678898 107.08778449\n",
      "   98.16380245 113.03710585 100.02296537 114.89626877 109.31878\n",
      "  111.17794292 101.51029571 114.1526036  111.54977551  94.07364401\n",
      "   99.65113279  97.79196986 107.83144966 108.57511483  93.70181143\n",
      "  109.69061258 108.94694741 107.45961707 104.48495639 102.25396088\n",
      "  103.36945864  98.16380245 101.51029571  98.90746762 117.12726428\n",
      "   91.47081592  98.90746762  95.56097435  97.04830469  90.72715075\n",
      "  104.48495639 102.25396088  92.58631367 108.57511483]]\n",
      "There is no significant relationship between ABtest and user_age.\n"
     ]
    }
   ],
   "source": [
    "# calculate the crosstab of ABtest and user_age in df_metrics_users_csv_cleaned doc\n",
    "contingency_table = pd.crosstab(df_metrics_csv_cleaned['ABtest'], df_metrics_users_csv_cleaned['user_age'])\n",
    "\n",
    "# since this is the interplay of two categorical values, we use Chi-square test\n",
    "chi2, p, dof, expected = stats.chi2_contingency(contingency_table)\n",
    "\n",
    "# outcome\n",
    "print(f'Chi2 statistic: {chi2}')\n",
    "print(f'p-value: {p}')\n",
    "print(f'Degrees of freedom: {dof}')\n",
    "print(f'Expected frequencies: \\n{expected}')\n",
    "\n",
    "# p value\n",
    "if p < 0.05:\n",
    "    print(\"There is a significant relationship between ABtest and user_age.\")\n",
    "else:\n",
    "    print(\"There is no significant relationship between ABtest and user_age.\")"
   ]
  },
  {
   "cell_type": "code",
   "execution_count": 32,
   "metadata": {},
   "outputs": [
    {
     "name": "stdout",
     "output_type": "stream",
     "text": [
      "Chi2 statistic: 353.51459631729426\n",
      "p-value: 0.8809035022982126\n",
      "Degrees of freedom: 386\n",
      "Expected frequencies: \n",
      "[[   4.23272826   10.45732864    6.47358439    4.9796803     9.46139258\n",
      "     8.2164725     4.9796803     8.46545652    8.2164725     7.22053644\n",
      "     5.97561636    5.22866432    6.97155242    5.97561636    5.72663235\n",
      "     5.97561636    4.73069629    9.21240856    7.96748849    6.97155242\n",
      "     5.72663235    7.46952046    8.2164725     9.46139258    7.71850447\n",
      "     5.22866432    6.47358439    8.2164725     6.22460038    8.2164725\n",
      "     5.72663235    6.47358439    7.22053644    7.22053644    6.47358439\n",
      "     9.21240856    7.22053644    8.2164725     8.2164725     3.98374424\n",
      "     8.46545652    8.96342455    9.21240856    5.72663235    5.97561636\n",
      "     5.97561636    6.47358439    7.22053644    7.96748849    9.95936061\n",
      "     8.2164725     5.22866432    6.97155242    8.2164725     7.46952046\n",
      "     5.47764833    7.71850447    7.96748849    8.71444053    6.47358439\n",
      "     8.71444053    8.96342455    8.46545652    6.47358439    7.46952046\n",
      "     6.72256841    7.46952046    4.73069629   10.70631265    8.2164725\n",
      "     7.22053644   10.70631265    6.97155242    9.46139258    7.46952046\n",
      "     7.96748849    8.46545652    7.96748849    7.46952046    8.71444053\n",
      "     6.22460038    6.47358439    8.71444053    8.2164725     7.96748849\n",
      "     8.46545652    7.22053644    6.72256841    5.72663235    4.73069629\n",
      "     5.72663235    9.46139258    6.72256841    7.71850447    7.96748849\n",
      "     5.47764833    6.97155242    6.22460038    5.97561636    6.97155242\n",
      "     7.96748849    5.97561636    5.97561636    8.2164725     6.22460038\n",
      "     9.46139258   10.20834462    6.72256841    4.23272826    6.72256841\n",
      "     7.96748849    4.9796803     9.46139258    9.95936061    6.97155242\n",
      "     7.46952046    8.46545652    8.96342455    7.46952046   10.20834462\n",
      "     6.47358439    3.73476023    9.46139258    5.47764833    8.46545652\n",
      "     6.47358439    8.96342455    5.47764833 1376.63261989    4.9796803\n",
      "     4.73069629    8.71444053    5.47764833    7.96748849    6.97155242\n",
      "     7.22053644    7.71850447   10.45732864    4.9796803     5.97561636\n",
      "     6.47358439    4.9796803     7.22053644   10.95529667    5.47764833\n",
      "     6.47358439    7.22053644    6.97155242    6.47358439    4.73069629\n",
      "     6.22460038    6.97155242    5.72663235    5.22866432    9.71037659\n",
      "     6.72256841    7.71850447    7.22053644    6.97155242    4.9796803\n",
      "     9.46139258    7.96748849    6.72256841    7.46952046    6.97155242\n",
      "     7.22053644    6.47358439    5.47764833    7.22053644    3.98374424\n",
      "     7.22053644    8.96342455    7.96748849    7.46952046    6.72256841\n",
      "     5.72663235    6.22460038    7.46952046    8.2164725     7.46952046\n",
      "     8.2164725     6.22460038    5.97561636    7.22053644    6.47358439\n",
      "     6.97155242    7.22053644    4.73069629    8.96342455    5.72663235\n",
      "     5.47764833    6.97155242    4.9796803     6.22460038]\n",
      " [   6.53869773   16.15442969   10.00036124    7.69258557   14.61591258\n",
      "    12.69276619    7.69258557   13.07739547   12.69276619   11.15424907\n",
      "     9.23110268    8.07721485   10.7696198     9.23110268    8.8464734\n",
      "     9.23110268    7.30795629   14.2312833    12.30813691   10.7696198\n",
      "     8.8464734    11.53887835   12.69276619   14.61591258   11.92350763\n",
      "     8.07721485   10.00036124   12.69276619    9.61573196   12.69276619\n",
      "     8.8464734    10.00036124   11.15424907   11.15424907   10.00036124\n",
      "    14.2312833    11.15424907   12.69276619   12.69276619    6.15406845\n",
      "    13.07739547   13.84665402   14.2312833     8.8464734     9.23110268\n",
      "     9.23110268   10.00036124   11.15424907   12.30813691   15.38517114\n",
      "    12.69276619    8.07721485   10.7696198    12.69276619   11.53887835\n",
      "     8.46184413   11.92350763   12.30813691   13.46202474   10.00036124\n",
      "    13.46202474   13.84665402   13.07739547   10.00036124   11.53887835\n",
      "    10.38499052   11.53887835    7.30795629   16.53905897   12.69276619\n",
      "    11.15424907   16.53905897   10.7696198    14.61591258   11.53887835\n",
      "    12.30813691   13.07739547   12.30813691   11.53887835   13.46202474\n",
      "     9.61573196   10.00036124   13.46202474   12.69276619   12.30813691\n",
      "    13.07739547   11.15424907   10.38499052    8.8464734     7.30795629\n",
      "     8.8464734    14.61591258   10.38499052   11.92350763   12.30813691\n",
      "     8.46184413   10.7696198     9.61573196    9.23110268   10.7696198\n",
      "    12.30813691    9.23110268    9.23110268   12.69276619    9.61573196\n",
      "    14.61591258   15.76980042   10.38499052    6.53869773   10.38499052\n",
      "    12.30813691    7.69258557   14.61591258   15.38517114   10.7696198\n",
      "    11.53887835   13.07739547   13.84665402   11.53887835   15.76980042\n",
      "    10.00036124    5.76943918   14.61591258    8.46184413   13.07739547\n",
      "    10.00036124   13.84665402    8.46184413 2126.61528041    7.69258557\n",
      "     7.30795629   13.46202474    8.46184413   12.30813691   10.7696198\n",
      "    11.15424907   11.92350763   16.15442969    7.69258557    9.23110268\n",
      "    10.00036124    7.69258557   11.15424907   16.92368825    8.46184413\n",
      "    10.00036124   11.15424907   10.7696198    10.00036124    7.30795629\n",
      "     9.61573196   10.7696198     8.8464734     8.07721485   15.00054186\n",
      "    10.38499052   11.92350763   11.15424907   10.7696198     7.69258557\n",
      "    14.61591258   12.30813691   10.38499052   11.53887835   10.7696198\n",
      "    11.15424907   10.00036124    8.46184413   11.15424907    6.15406845\n",
      "    11.15424907   13.84665402   12.30813691   11.53887835   10.38499052\n",
      "     8.8464734     9.61573196   11.53887835   12.69276619   11.53887835\n",
      "    12.69276619    9.61573196    9.23110268   11.15424907   10.00036124\n",
      "    10.7696198    11.15424907    7.30795629   13.84665402    8.8464734\n",
      "     8.46184413   10.7696198     7.69258557    9.61573196]\n",
      " [   6.22857401   15.38824167    9.52605437    7.32773413   13.92269484\n",
      "    12.09076131    7.32773413   12.45714802   12.09076131   10.62521449\n",
      "     8.79328095    7.69412083   10.25882778    8.79328095    8.42689425\n",
      "     8.79328095    6.96134742   13.55630814   11.7243746    10.25882778\n",
      "     8.42689425   10.99160119   12.09076131   13.92269484   11.3579879\n",
      "     7.69412083    9.52605437   12.09076131    9.15966766   12.09076131\n",
      "     8.42689425    9.52605437   10.62521449   10.62521449    9.52605437\n",
      "    13.55630814   10.62521449   12.09076131   12.09076131    5.8621873\n",
      "    12.45714802   13.18992143   13.55630814    8.42689425    8.79328095\n",
      "     8.79328095    9.52605437   10.62521449   11.7243746    14.65546826\n",
      "    12.09076131    7.69412083   10.25882778   12.09076131   10.99160119\n",
      "     8.06050754   11.3579879    11.7243746    12.82353472    9.52605437\n",
      "    12.82353472   13.18992143   12.45714802    9.52605437   10.99160119\n",
      "     9.89244107   10.99160119    6.96134742   15.75462838   12.09076131\n",
      "    10.62521449   15.75462838   10.25882778   13.92269484   10.99160119\n",
      "    11.7243746    12.45714802   11.7243746    10.99160119   12.82353472\n",
      "     9.15966766    9.52605437   12.82353472   12.09076131   11.7243746\n",
      "    12.45714802   10.62521449    9.89244107    8.42689425    6.96134742\n",
      "     8.42689425   13.92269484    9.89244107   11.3579879    11.7243746\n",
      "     8.06050754   10.25882778    9.15966766    8.79328095   10.25882778\n",
      "    11.7243746     8.79328095    8.79328095   12.09076131    9.15966766\n",
      "    13.92269484   15.02185496    9.89244107    6.22857401    9.89244107\n",
      "    11.7243746     7.32773413   13.92269484   14.65546826   10.25882778\n",
      "    10.99160119   12.45714802   13.18992143   10.99160119   15.02185496\n",
      "     9.52605437    5.4958006    13.92269484    8.06050754   12.45714802\n",
      "     9.52605437   13.18992143    8.06050754 2025.7520997     7.32773413\n",
      "     6.96134742   12.82353472    8.06050754   11.7243746    10.25882778\n",
      "    10.62521449   11.3579879    15.38824167    7.32773413    8.79328095\n",
      "     9.52605437    7.32773413   10.62521449   16.12101508    8.06050754\n",
      "     9.52605437   10.62521449   10.25882778    9.52605437    6.96134742\n",
      "     9.15966766   10.25882778    8.42689425    7.69412083   14.28908155\n",
      "     9.89244107   11.3579879    10.62521449   10.25882778    7.32773413\n",
      "    13.92269484   11.7243746     9.89244107   10.99160119   10.25882778\n",
      "    10.62521449    9.52605437    8.06050754   10.62521449    5.8621873\n",
      "    10.62521449   13.18992143   11.7243746    10.99160119    9.89244107\n",
      "     8.42689425    9.15966766   10.99160119   12.09076131   10.99160119\n",
      "    12.09076131    9.15966766    8.79328095   10.62521449    9.52605437\n",
      "    10.25882778   10.62521449    6.96134742   13.18992143    8.42689425\n",
      "     8.06050754   10.25882778    7.32773413    9.15966766]]\n",
      "There is no significant relationship between ABtest and user_country_of_origin.\n"
     ]
    }
   ],
   "source": [
    "# calculate the crosstab of ABtest and user_country_of_origin in df_metrics_users_csv_cleaned doc\n",
    "contingency_table = pd.crosstab(df_metrics_csv_cleaned['ABtest'], df_metrics_users_csv_cleaned['user_country_of_origin'])\n",
    "\n",
    "# since this is the interplay of two categorical values, we use Chi-square test\n",
    "chi2, p, dof, expected = stats.chi2_contingency(contingency_table)\n",
    "\n",
    "# outcome\n",
    "print(f'Chi2 statistic: {chi2}')\n",
    "print(f'p-value: {p}')\n",
    "print(f'Degrees of freedom: {dof}')\n",
    "print(f'Expected frequencies: \\n{expected}')\n",
    "\n",
    "# p value\n",
    "if p < 0.05:\n",
    "    print(\"There is a significant relationship between ABtest and user_country_of_origin.\")\n",
    "else:\n",
    "    print(\"There is no significant relationship between ABtest and user_country_of_origin.\")"
   ]
  },
  {
   "cell_type": "code",
   "execution_count": 21,
   "metadata": {},
   "outputs": [
    {
     "name": "stdout",
     "output_type": "stream",
     "text": [
      "Chi2 statistic: 36.54833992291638\n",
      "p-value: 0.44319708412606224\n",
      "Degrees of freedom: 36\n",
      "Expected frequencies: \n",
      "[[263.84528049 254.5919389  257.09284203 256.09248078 259.59374516\n",
      "  252.59121639 260.59410641 244.83841668 266.59627393 246.08886825\n",
      "  257.34293234 250.09031326 253.84166796 266.34618362 243.58796511\n",
      "  245.58868762 257.59302266 249.59013263 260.09392579]\n",
      " [398.87134231 384.88248955 388.66326057 387.15095216 392.44403158\n",
      "  381.85787274 393.95633999 370.13748258 403.03019043 372.02786809\n",
      "  389.04133767 378.07710172 383.74825824 402.65211333 368.24709707\n",
      "  371.27171389 389.41941477 377.32094752 393.20018579]\n",
      " [392.2833772  378.52557155 382.2438974  380.75656706 385.96222325\n",
      "  375.55091087 387.44955359 364.02410074 396.37353564 365.88326366\n",
      "  382.61572999 371.83258502 377.4100738  396.00170305 362.16493781\n",
      "  365.13959849 382.98756257 371.08891985 386.70588842]]\n",
      "There is no significant relationship between ABtest and user_totalUniquePageviews.\n"
     ]
    }
   ],
   "source": [
    "# calculate the crosstab of ABtest and user_totalUniquePageviews in df_metrics_users_csv_cleaned doc\n",
    "contingency_table = pd.crosstab(df_metrics_csv_cleaned['ABtest'], df_metrics_users_csv_cleaned['user_totalUniquePageviews'])\n",
    "\n",
    "# since this is the interplay of two categorical values, we use Chi-square test\n",
    "chi2, p, dof, expected = stats.chi2_contingency(contingency_table)\n",
    "\n",
    "# outcome\n",
    "print(f'Chi2 statistic: {chi2}')\n",
    "print(f'p-value: {p}')\n",
    "print(f'Degrees of freedom: {dof}')\n",
    "print(f'Expected frequencies: \\n{expected}')\n",
    "\n",
    "# p value\n",
    "if p < 0.05:\n",
    "    print(\"There is a significant relationship between ABtest and user_totalUniquePageviews.\")\n",
    "else:\n",
    "    print(\"There is no significant relationship between ABtest and user_totalUniquePageviews.\")"
   ]
  },
  {
   "cell_type": "markdown",
   "metadata": {},
   "source": [
    "Unfortunately, everything is unrelated to ABtest. But I want to check the relations between other variables. "
   ]
  },
  {
   "cell_type": "code",
   "execution_count": 22,
   "metadata": {},
   "outputs": [
    {
     "name": "stdout",
     "output_type": "stream",
     "text": [
      "Chi2 statistic: 1175.0974154680143\n",
      "p-value: 0.8385077350912173\n",
      "Degrees of freedom: 1224\n",
      "Expected frequencies: \n",
      "[[15.29932394 14.76275997 14.90777726 ... 14.93678072 14.4727254\n",
      "  15.08179801]\n",
      " [15.13598596 14.60515044 14.7486195  ... 14.77731331 14.31821231\n",
      "  14.92078237]\n",
      " [15.19043196 14.65768695 14.80167209 ... 14.83046911 14.36971667\n",
      "  14.97445425]\n",
      " ...\n",
      " [14.97264798 14.4475409  14.58946173 ... 14.6178459  14.16369923\n",
      "  14.75976673]\n",
      " [13.55705218 13.08159158 13.21009444 ... 13.23579501 12.82458585\n",
      "  13.36429788]\n",
      " [15.89822986 15.34066161 15.49135573 ... 15.52149456 15.03927337\n",
      "  15.67218868]]\n",
      "There is no significant relationship between user_age and user_totalUniquePageviews.\n"
     ]
    }
   ],
   "source": [
    "# calculate the crosstab of user_age and user_totalUniquePageviews in df_metrics_users_csv_cleaned doc\n",
    "contingency_table = pd.crosstab(df_metrics_users_csv_cleaned['user_age'], df_metrics_users_csv_cleaned['user_totalUniquePageviews'])\n",
    "\n",
    "# since this is the interplay of two categorical values, we use Chi-square test\n",
    "chi2, p, dof, expected = stats.chi2_contingency(contingency_table)\n",
    "\n",
    "# outcome\n",
    "print(f'Chi2 statistic: {chi2}')\n",
    "print(f'p-value: {p}')\n",
    "print(f'Degrees of freedom: {dof}')\n",
    "print(f'Expected frequencies: \\n{expected}')\n",
    "\n",
    "# p value\n",
    "if p < 0.05:\n",
    "    print(\"There is a significant relationship between user_age and user_totalUniquePageviews.\")\n",
    "else:\n",
    "    print(\"There is no significant relationship between user_age and user_totalUniquePageviews.\")"
   ]
  },
  {
   "cell_type": "code",
   "execution_count": 35,
   "metadata": {},
   "outputs": [
    {
     "name": "stdout",
     "output_type": "stream",
     "text": [
      "Chi2 statistic: 3489.6173863387894\n",
      "p-value: 0.42266683374987235\n",
      "Degrees of freedom: 3474\n",
      "Expected frequencies: \n",
      "[[0.93190644 0.91194798 0.91501851 ... 0.90734218 0.86281947 0.89659532]\n",
      " [2.30235708 2.25304795 2.26063397 ... 2.24166892 2.13167163 2.21511785]\n",
      " [1.42526867 1.39474397 1.39944008 ... 1.38769981 1.31960625 1.37126343]\n",
      " ...\n",
      " [1.53490472 1.50203197 1.50708932 ... 1.49444595 1.42111442 1.47674524]\n",
      " [1.09636052 1.07287998 1.07649237 ... 1.06746139 1.01508173 1.05481803]\n",
      " [1.37045065 1.34109997 1.34561546 ... 1.33432674 1.26885216 1.31852253]]\n",
      "There is no significant relationship between user_country_of_origin and user_totalUniquePageviews.\n"
     ]
    }
   ],
   "source": [
    "# calculate the crosstab of user_country_of_origin and user_totalUniquePageviews in df_metrics_users_csv_cleaned doc\n",
    "contingency_table = pd.crosstab(df_metrics_users_csv_cleaned['user_country_of_origin'], df_metrics_users_csv_cleaned['user_totalUniquePageviews'])\n",
    "\n",
    "# since this is the interplay of two categorical values, we use Chi-square test\n",
    "chi2, p, dof, expected = stats.chi2_contingency(contingency_table)\n",
    "\n",
    "# outcome\n",
    "print(f'Chi2 statistic: {chi2}')\n",
    "print(f'p-value: {p}')\n",
    "print(f'Degrees of freedom: {dof}')\n",
    "print(f'Expected frequencies: \\n{expected}')\n",
    "\n",
    "# p value\n",
    "if p < 0.05:\n",
    "    print(\"There is a significant relationship between user_country_of_origin and user_totalUniquePageviews.\")\n",
    "else:\n",
    "    print(\"There is no significant relationship between user_country_of_origin and user_totalUniquePageviews.\")"
   ]
  },
  {
   "cell_type": "code",
   "execution_count": 23,
   "metadata": {},
   "outputs": [
    {
     "name": "stdout",
     "output_type": "stream",
     "text": [
      "Chi2 statistic: 13098.140384401853\n",
      "p-value: 0.5618275897206525\n",
      "Degrees of freedom: 13124\n",
      "Expected frequencies: \n",
      "[[0.24410729 0.22875463 0.25485415 ... 0.25178362 0.22261356 0.25945995]\n",
      " [0.60308859 0.56515849 0.62963966 ... 0.62205364 0.54998645 0.64101869]\n",
      " [0.37334056 0.34986002 0.38977693 ... 0.38508083 0.3404678  0.3968211 ]\n",
      " ...\n",
      " [0.40205906 0.37677233 0.41975978 ... 0.41470243 0.36665764 0.4273458 ]\n",
      " [0.28718504 0.26912309 0.29982841 ... 0.29621602 0.26189831 0.305247  ]\n",
      " [0.35898131 0.33640387 0.37478551 ... 0.37027003 0.32737289 0.38155875]]\n",
      "There is no significant relationship between user_country_of_origin and user_age.\n"
     ]
    }
   ],
   "source": [
    "# calculate the crosstab of user_country_of_origin and user_age in df_metrics_users_csv_cleaned doc\n",
    "contingency_table = pd.crosstab(df_metrics_users_csv_cleaned['user_country_of_origin'], df_metrics_users_csv_cleaned['user_age'])\n",
    "\n",
    "# since this is the interplay of two categorical values, we use Chi-square test\n",
    "chi2, p, dof, expected = stats.chi2_contingency(contingency_table)\n",
    "\n",
    "# outcome\n",
    "print(f'Chi2 statistic: {chi2}')\n",
    "print(f'p-value: {p}')\n",
    "print(f'Degrees of freedom: {dof}')\n",
    "print(f'Expected frequencies: \\n{expected}')\n",
    "\n",
    "# p value\n",
    "if p < 0.05:\n",
    "    print(\"There is a significant relationship between user_country_of_origin and user_age.\")\n",
    "else:\n",
    "    print(\"There is no significant relationship between user_country_of_origin and user_age.\")"
   ]
  },
  {
   "cell_type": "code",
   "execution_count": 24,
   "metadata": {},
   "outputs": [
    {
     "name": "stdout",
     "output_type": "stream",
     "text": [
      "Chi2 statistic: 9737994.300565287\n",
      "p-value: 1.0\n",
      "Degrees of freedom: 9933056\n",
      "Expected frequencies: \n",
      "[[0.31032205 0.07758051 0.54306358 ... 0.23274154 0.46548307 0.6206441 ]\n",
      " [0.31263419 0.07815855 0.54710983 ... 0.23447564 0.46895128 0.62526837]\n",
      " [1.24178365 0.31044591 2.17312139 ... 0.93133774 1.86267547 2.4835673 ]\n",
      " ...\n",
      " [0.15557391 0.03889348 0.27225434 ... 0.11668043 0.23336086 0.31114781]\n",
      " [0.15028902 0.03757225 0.26300578 ... 0.11271676 0.22543353 0.30057803]\n",
      " [0.15227085 0.03806771 0.26647399 ... 0.11420314 0.22840628 0.3045417 ]]\n",
      "There is no significant relationship between referral and visit_len.\n"
     ]
    }
   ],
   "source": [
    "# calculate the crosstab of referral and visit_len in df_metrics_csv_cleaned doc\n",
    "contingency_table = pd.crosstab(df_metrics_csv_cleaned['referral'], df_metrics_csv_cleaned['visit_len'])\n",
    "\n",
    "# since this is the interplay of two categorical values, we use Chi-square test\n",
    "chi2, p, dof, expected = stats.chi2_contingency(contingency_table)\n",
    "\n",
    "# outcome\n",
    "print(f'Chi2 statistic: {chi2}')\n",
    "print(f'p-value: {p}')\n",
    "print(f'Degrees of freedom: {dof}')\n",
    "print(f'Expected frequencies: \\n{expected}')\n",
    "\n",
    "# p value\n",
    "if p < 0.05:\n",
    "    print(\"There is a significant relationship between referral and visit_len.\")\n",
    "else:\n",
    "    print(\"There is no significant relationship between referral and visit_len.\")"
   ]
  },
  {
   "cell_type": "markdown",
   "metadata": {},
   "source": [
    "There is no significant between any two variables in the two datasets."
   ]
  },
  {
   "cell_type": "markdown",
   "metadata": {},
   "source": [
    "Checking the data for biases and unbalance (e.g., unequal distributed variables, missing cases):"
   ]
  },
  {
   "cell_type": "markdown",
   "metadata": {},
   "source": [
    "Bias:"
   ]
  },
  {
   "cell_type": "code",
   "execution_count": 25,
   "metadata": {},
   "outputs": [
    {
     "name": "stdout",
     "output_type": "stream",
     "text": [
      "ABtest\n",
      "A    12128\n",
      "B    12093\n",
      "Name: count, dtype: int64\n"
     ]
    }
   ],
   "source": [
    "#I want to check whether there is selection bias in ABtest:\n",
    "df_metrics_csv_cleaned['ABtest'] = np.random.choice(['A', 'B'], size=len(df_metrics_csv_cleaned))\n",
    "\n",
    "# check whether A/B is equally distributed\n",
    "print(df_metrics_csv_cleaned['ABtest'].value_counts())"
   ]
  },
  {
   "cell_type": "markdown",
   "metadata": {},
   "source": [
    "The distribution of the two groups are equal. Therefore, it is not very possible that there would be self-selection bias."
   ]
  },
  {
   "cell_type": "markdown",
   "metadata": {},
   "source": [
    "Balance:"
   ]
  },
  {
   "cell_type": "code",
   "execution_count": 26,
   "metadata": {},
   "outputs": [
    {
     "data": {
      "text/plain": [
       "ABtest\n",
       "A    0.500723\n",
       "B    0.499277\n",
       "Name: proportion, dtype: float64"
      ]
     },
     "execution_count": 26,
     "metadata": {},
     "output_type": "execute_result"
    }
   ],
   "source": [
    "#Check ABtest\n",
    "df_metrics_csv_cleaned['ABtest'].value_counts(normalize=True)"
   ]
  },
  {
   "cell_type": "markdown",
   "metadata": {},
   "source": [
    "If we only focus on Atest group and Btest group, then it is distributed equally. "
   ]
  },
  {
   "cell_type": "code",
   "execution_count": 27,
   "metadata": {},
   "outputs": [
    {
     "name": "stdout",
     "output_type": "stream",
     "text": [
      "standard deviation of ABtest: 0.0593\n"
     ]
    }
   ],
   "source": [
    "proportions = np.array([0.3775, 0.3730, 0.2495])\n",
    "std_dev = np.std(proportions)\n",
    "print(f\"standard deviation of ABtest: {std_dev:.4f}\")"
   ]
  },
  {
   "cell_type": "markdown",
   "metadata": {},
   "source": [
    "But if we take Non_test (control group) into account as well, then the distrbution is not equal. In this sense, there could be self-selection bias."
   ]
  },
  {
   "cell_type": "markdown",
   "metadata": {},
   "source": [
    "The same logic can be applied to other variables. Countries of origin and users' ages will be tested."
   ]
  },
  {
   "cell_type": "code",
   "execution_count": 28,
   "metadata": {},
   "outputs": [
    {
     "data": {
      "text/plain": [
       "user_age\n",
       "75    0.016256\n",
       "54    0.015947\n",
       "42    0.015895\n",
       "58    0.015844\n",
       "31    0.015740\n",
       "        ...   \n",
       "65    0.013005\n",
       "83    0.012850\n",
       "32    0.012799\n",
       "76    0.012695\n",
       "80    0.012592\n",
       "Name: proportion, Length: 69, dtype: float64"
      ]
     },
     "execution_count": 28,
     "metadata": {},
     "output_type": "execute_result"
    }
   ],
   "source": [
    "#Check users_age\n",
    "df_metrics_users_csv_cleaned['user_age'].value_counts(normalize=True)"
   ]
  },
  {
   "cell_type": "code",
   "execution_count": 57,
   "metadata": {},
   "outputs": [
    {
     "data": {
      "image/png": "[encoded data removed]",
      "text/plain": [
       "<Figure size 640x480 with 1 Axes>"
      ]
     },
     "metadata": {},
     "output_type": "display_data"
    }
   ],
   "source": [
    "import matplotlib.pyplot as plt\n",
    "\n",
    "# extract the user_age from the dataset\n",
    "user_age = df_metrics_users_csv_cleaned['user_age']\n",
    "\n",
    "# calculate the frequency of the \n",
    "user_age_counts = user_age.value_counts()\n",
    "\n",
    "# visualize\n",
    "plt.bar(user_age_counts.index, user_age_counts.values)\n",
    "plt.xlabel(\"User Age\")\n",
    "plt.ylabel(\"Frequency\")\n",
    "plt.title(\"User Age Distribution\")\n",
    "plt.xticks(rotation=45)  # there are too many different ages so I rotated the X\n",
    "plt.show()"
   ]
  },
  {
   "cell_type": "markdown",
   "metadata": {},
   "source": [
    "According to the results, the age distribution is equal."
   ]
  },
  {
   "cell_type": "code",
   "execution_count": 29,
   "metadata": {},
   "outputs": [
    {
     "data": {
      "text/plain": [
       "user_country_of_origin\n",
       "NL    0.499323\n",
       "PY    0.003974\n",
       "HN    0.003883\n",
       "GT    0.003883\n",
       "AE    0.003793\n",
       "        ...   \n",
       "MC    0.001535\n",
       "AD    0.001535\n",
       "TJ    0.001445\n",
       "CU    0.001445\n",
       "MW    0.001355\n",
       "Name: proportion, Length: 194, dtype: float64"
      ]
     },
     "execution_count": 29,
     "metadata": {},
     "output_type": "execute_result"
    }
   ],
   "source": [
    "#Check user\n",
    "df_metrics_users_csv_cleaned['user_country_of_origin'].value_counts(normalize=True)"
   ]
  },
  {
   "cell_type": "markdown",
   "metadata": {},
   "source": [
    "It is obvious that the data is distributed unequally. Most countries are the Netherlands. "
   ]
  },
  {
   "cell_type": "markdown",
   "metadata": {},
   "source": [
    "Report:\n",
    "\n",
    "Univariate:\n",
    "The distribution of AB test groups is almost even. There are about 8500 B test group choices and 8600 A test group choices. However, what is worth noticing is that if we take control group (No_Test) into account, the distribution is not even enough.The visit_lens are generally between 1500 to 4500. Users' ages are averagely between 35 to 67 or 68 years old, which is quite shocking since old people are considered not active on social media platforms or the Internet generally. According to ISO 3166-1 alpha-2, NL refers to the Netherlands. PY refers to Paraguay. HIN is unrecognizable. GT refers to Guatemala. AE refers to United Arab Emirates. PH refers to Philippines. LY refers to Libya. MU refers to Mauritius. MK refers to North Macedonia. The country of origin covers Europe, Latin America, Middle-East and Asia and Africa. The numbers of the pageviews of the users are between 1 to 19, and the distribution is considered equal. \n",
    "\n",
    "\n",
    "Bivariate:\n",
    "Overall, the bivariate test does not approve the hypothesis. Also, there is no significant relation between any two variables. \n",
    "\n",
    "Bias&Distribution:\n",
    "I tested the ABtest groups on self-selection bias. The result of the test shows that there is no self-selection bias. The distribution between A test groups and B test groups is equal, yet if No_Test groups are taken into consideration, it is not equal, with a standard deviation at 0.0593. In order to gauge the distribution extent of the users' ages, I ran a bar plot. The result shows that the distribution of the users is equal. What is also distributed equally is the countries of origin. \n",
    "\n",
    "Potential risks:\n",
    "The number of the users belonging to the No_Test groups is too high, which already sways the standard deviation and may influence the outcome of the research. The major country of origin is the Netherlands, which may induce nationality bias and overshadows or overrepresent the opinions of the users from other countries or continent. It is also quite surprising that there are almost no people under 30 years old in the dataset. Thus, the opinions of the users presented are mainly from middle-aged people and may influence the outcome. \n",
    "\n",
    "Word Count: 362"
   ]
  },
  {
   "cell_type": "markdown",
   "metadata": {},
   "source": [
    "## Modeling and Hypothesis Testing\n",
    "\n",
    "After understanding and preparing the data, you are ready to do the modeling. It is important to explain to the reader:\n",
    "* Explaining which models will be used, and why\n",
    "* If appropriate, explaining which strategy you are using to fine tune or improve the model\n",
    "* Discussion about the model evaluation (i.e., why you believe the model is a good model) and, if appropriate, comparison between different models\n",
    "* After the appropriate model is identified, then the hypothesis can be tested. You can then report the result of the tests being used to test the hypothesis (as discussed in the criteria for the assignment), explaining to the reader how the test is being made and what the results of the testing mean for the hypothesis at hand. \n",
    "* Visualizations (as appropriate) are helpful to explain to the reader what has been found.\n",
    "* Usage of the model to make predictions (e.g., key audience segments)\n",
    "* Reviewing the model to indicate which features (variables) are responsible for the predictions (related to Explainable AI discussions)\n",
    "\n",
    "**IMPORTANT:**\n",
    "* We consider as different models both when different features/variables are being tested (to achieve the same objective), or when different algorithms are being tested (with the same features/IVs)\n",
    "* It is important to explain to the reader what the model contains/is, and also how it is being evaluated. When the evaluation is done, it is also important to discuss what the result means in the current context\n",
    "* As the focus of this course is on predictive analytics, it is expected that predictions are made (using scikit-learn) and discussed after a hypothesis is tested. This means that when ANOVAs or T-Tests are used (as statistical testing), and equivalent OLS/Linear Regression Model (in scikit-learn) needs to be used to make predictions. All tests need to be done in Python, using statsmodels and/or scikit-learn."
   ]
  },
  {
   "cell_type": "markdown",
   "metadata": {
    "collapsed": true,
    "jupyter": {
     "outputs_hidden": true
    }
   },
   "source": [
    "____________________________________________________________________________________________________________________________________________________________________\n",
    "Unfortunately, according to the bivariate test above, none of the variables are related. Therefore, we need to rethink the model we applied to do the modeling. In this part, I would like to use a machine learning model to predict what kinds of users (with some specific ages, nationalities or referral) may be more likely to enter A group or B group. The machine learning model is random forest."
   ]
  },
  {
   "cell_type": "markdown",
   "metadata": {},
   "source": [
    "_______________________________________________________________________________________________________________________________________________________________________________\n",
    "In the following codes, I test the three hypotheses one by one. The first one is to check the relationship between ABtest data and visit lens. \n",
    "\n",
    "Firstly, I imported scipy.stats as stats and numpy as np again. After that, I rename the data in ABtest as \"A\" and \"B\" and retrieve them together with visit_len out of their datasets. \n",
    "\n",
    "To test the hypothesis, firstly I need to check whether the data is distributed normally. To achieve this goal, I ran Shapiro-Wilk normal distribution test. I printed out the outcome of this test. They distributed almost normally, which proves their qualification of continuing tests. Notice that I used dropna() first to get rid of the missing values.\n",
    "\n",
    "In the testing part, I followed the statistical logic. If the p values of A and B are both > 0.05, it is qualified for an independent T test. If it is not the case, we should run a Mann-Whitney U test to check the unnormal distribution). No matter whick test method is adopted, I will print out the method.\n",
    "\n",
    "After running the codes, I printed the outcome out and gave the explanation like I did above. "
   ]
  },
  {
   "cell_type": "code",
   "execution_count": 73,
   "metadata": {},
   "outputs": [
    {
     "name": "stdout",
     "output_type": "stream",
     "text": [
      "Shapiro-Wilk test p-value for A group: nan\n",
      "Shapiro-Wilk test p-value for B group: nan\n",
      "Statistical Test Used: Mann-Whitney U test\n",
      "p-value: nan\n",
      "Result: There is no significant difference in visit length between A and B groups.\n"
     ]
    },
    {
     "name": "stderr",
     "output_type": "stream",
     "text": [
      "C:\\Users\\Xinxu\\AppData\\Local\\Temp\\ipykernel_8572\\122340100.py:11: SmallSampleWarning: One or more sample arguments is too small; all returned values will be NaN. See documentation for sample size requirements.\n",
      "  stat_A, p_A = stats.shapiro(visit_len_A.dropna())  # Shapiro-Wilk normal distribution test\n",
      "C:\\Users\\Xinxu\\AppData\\Local\\Temp\\ipykernel_8572\\122340100.py:12: SmallSampleWarning: One or more sample arguments is too small; all returned values will be NaN. See documentation for sample size requirements.\n",
      "  stat_B, p_B = stats.shapiro(visit_len_B.dropna())\n",
      "C:\\Users\\Xinxu\\AppData\\Local\\Temp\\ipykernel_8572\\122340100.py:24: SmallSampleWarning: One or more sample arguments is too small; all returned values will be NaN. See documentation for sample size requirements.\n",
      "  u_stat, p_value = stats.mannwhitneyu(visit_len_A.dropna(), visit_len_B.dropna(), alternative='greater')\n"
     ]
    }
   ],
   "source": [
    "#I will test the hypothesis first\n",
    "\n",
    "import scipy.stats as stats\n",
    "import numpy as np\n",
    "\n",
    "#retreive the visit_len data from A and B test groups\n",
    "visit_len_A = df_metrics_csv_cleaned[df_metrics_csv_cleaned['ABtest'] == 'A']['visit_len']\n",
    "visit_len_B = df_metrics_csv_cleaned[df_metrics_csv_cleaned['ABtest'] == 'B']['visit_len']\n",
    "\n",
    "# check whether they are distributed normally\n",
    "stat_A, p_A = stats.shapiro(visit_len_A.dropna())  # Shapiro-Wilk normal distribution test\n",
    "stat_B, p_B = stats.shapiro(visit_len_B.dropna())\n",
    "\n",
    "print(f\"Shapiro-Wilk test p-value for A group: {p_A}\")\n",
    "print(f\"Shapiro-Wilk test p-value for B group: {p_B}\")\n",
    "\n",
    "# running statistical codes\n",
    "if p_A > 0.05 and p_B > 0.05:  # p > 0.05 means the data is close to normal distribution\n",
    "    # independent T test\n",
    "    t_stat, p_value = stats.ttest_ind(visit_len_A.dropna(), visit_len_B.dropna(), equal_var=False)\n",
    "    test_type = \"t-test\"\n",
    "else:\n",
    "    # Mann-Whitney U test (to test unnormal distribution)\n",
    "    u_stat, p_value = stats.mannwhitneyu(visit_len_A.dropna(), visit_len_B.dropna(), alternative='greater')\n",
    "    test_type = \"Mann-Whitney U test\"\n",
    "\n",
    "print(f\"Statistical Test Used: {test_type}\")\n",
    "print(f\"p-value: {p_value}\")\n",
    "\n",
    "# explain the outcome\n",
    "alpha = 0.05  # set the significance level\n",
    "if p_value < alpha:\n",
    "    print(\"Result: There is a statistically significant difference. A group stays longer than B group.\")\n",
    "else:\n",
    "    print(\"Result: There is no significant difference in visit length between A and B groups.\")\n"
   ]
  },
  {
   "cell_type": "markdown",
   "metadata": {},
   "source": [
    "We can see that the statistcial test used was Mann-Whitney U test instead of independent T tes. Also, there is no difference in visit length between A and B groups. This means that users in this subreddit do not show an obvious preference for emotiona-driven communication plan, which rejects H1."
   ]
  },
  {
   "cell_type": "code",
   "execution_count": 74,
   "metadata": {},
   "outputs": [
    {
     "name": "stdout",
     "output_type": "stream",
     "text": [
      "Index(['user_age', 'user_country_of_origin', 'user_totalUniquePageviews'], dtype='object')\n"
     ]
    }
   ],
   "source": [
    "print(df_metrics_users_csv_cleaned.columns)"
   ]
  },
  {
   "cell_type": "markdown",
   "metadata": {},
   "source": [
    "Since the two datasets do not have shared columns, it is impossible to merge two datasets together. In this case, in order to continue my research, I will assume the users are the same users and cut out the extra lines. In the first line, I calculated the minimum shared length of both datasets by using min(len()). After knowing the exact number (which is expressed as min_length), I used .iloc[:min_length] to cut the rows, so that they have the same lines. In the end, since there is no shared columns, it is impossible to merge them, so I will add the ABtext column in df_metrics_csv_cleaned to df_metrics_users_csv_cleaned to further continue the analysis.\n",
    "\n",
    "The rest of the logic is totally the same as the codes I wrote before. "
   ]
  },
  {
   "cell_type": "code",
   "execution_count": 75,
   "metadata": {},
   "outputs": [],
   "source": [
    "# to gain the minimum length of two columns\n",
    "min_length = min(len(df_metrics_csv_cleaned), len(df_metrics_users_csv_cleaned))\n",
    "\n",
    "# to cut out two datasets and make them equally long\n",
    "df_metrics_csv_cleaned = df_metrics_csv_cleaned.iloc[:min_length].copy()\n",
    "df_metrics_users_csv_cleaned = df_metrics_users_csv_cleaned.iloc[:min_length].copy()\n",
    "\n",
    "# add AB test column\n",
    "df_metrics_users_csv_cleaned['ABtest'] = df_metrics_csv_cleaned['ABtest'].values"
   ]
  },
  {
   "cell_type": "code",
   "execution_count": 76,
   "metadata": {},
   "outputs": [
    {
     "name": "stdout",
     "output_type": "stream",
     "text": [
      "Shapiro-Wilk test p-value for A group: nan\n",
      "Shapiro-Wilk test p-value for B group: nan\n",
      "Statistical Test Used: Mann-Whitney U test\n",
      "p-value: nan\n",
      "Result: There is no significant difference in user_age between A and B groups.\n"
     ]
    },
    {
     "name": "stderr",
     "output_type": "stream",
     "text": [
      "C:\\Users\\Xinxu\\AppData\\Local\\Temp\\ipykernel_8572\\2267966703.py:12: SmallSampleWarning: One or more sample arguments is too small; all returned values will be NaN. See documentation for sample size requirements.\n",
      "  stat_A, p_A = stats.shapiro(user_age_A)\n",
      "C:\\Users\\Xinxu\\AppData\\Local\\Temp\\ipykernel_8572\\2267966703.py:13: SmallSampleWarning: One or more sample arguments is too small; all returned values will be NaN. See documentation for sample size requirements.\n",
      "  stat_B, p_B = stats.shapiro(user_age_B)\n",
      "C:\\Users\\Xinxu\\AppData\\Local\\Temp\\ipykernel_8572\\2267966703.py:25: SmallSampleWarning: One or more sample arguments is too small; all returned values will be NaN. See documentation for sample size requirements.\n",
      "  u_stat, p_value = stats.mannwhitneyu(user_age_A, user_age_B, alternative='two-sided')\n"
     ]
    }
   ],
   "source": [
    "import scipy.stats as stats\n",
    "\n",
    "# user_age to extract the user_age in A and B group\n",
    "user_age_A = df_metrics_users_csv_cleaned[df_metrics_users_csv_cleaned['ABtest'] == 'A']['user_age']\n",
    "user_age_B = df_metrics_users_csv_cleaned[df_metrics_users_csv_cleaned['ABtest'] == 'B']['user_age']\n",
    "\n",
    "# take out the missing values\n",
    "user_age_A = user_age_A.dropna()\n",
    "user_age_B = user_age_B.dropna()\n",
    "\n",
    "# check whether it's distributed normally\n",
    "stat_A, p_A = stats.shapiro(user_age_A)  \n",
    "stat_B, p_B = stats.shapiro(user_age_B)\n",
    "\n",
    "print(f\"Shapiro-Wilk test p-value for A group: {p_A}\")\n",
    "print(f\"Shapiro-Wilk test p-value for B group: {p_B}\")\n",
    "\n",
    "# select an appropriate statistical approach\n",
    "if p_A > 0.05 and p_B > 0.05:  \n",
    "    # independent t test\n",
    "    t_stat, p_value = stats.ttest_ind(user_age_A, user_age_B, equal_var=False)\n",
    "    test_type = \"t-test\"\n",
    "else:\n",
    "    # Mann-Whitney U test\n",
    "    u_stat, p_value = stats.mannwhitneyu(user_age_A, user_age_B, alternative='two-sided')\n",
    "    test_type = \"Mann-Whitney U test\"\n",
    "\n",
    "# print the statistical approach\n",
    "print(f\"Statistical Test Used: {test_type}\")\n",
    "print(f\"p-value: {p_value}\")\n",
    "\n",
    "# explain\n",
    "alpha = 0.05\n",
    "if p_value < alpha:\n",
    "    print(\"Result: There is a statistically significant difference in user_age between A and B groups.\")\n",
    "else:\n",
    "    print(\"Result: There is no significant difference in user_age between A and B groups.\")"
   ]
  },
  {
   "cell_type": "code",
   "execution_count": 77,
   "metadata": {},
   "outputs": [
    {
     "name": "stdout",
     "output_type": "stream",
     "text": [
      "Shapiro-Wilk test p-value for A group: nan\n",
      "Shapiro-Wilk test p-value for B group: nan\n",
      "Statistical Test Used: Mann-Whitney U test\n",
      "p-value: nan\n",
      "Result: There is no significant difference in user_age between A and B groups.\n"
     ]
    },
    {
     "name": "stderr",
     "output_type": "stream",
     "text": [
      "C:\\Users\\Xinxu\\AppData\\Local\\Temp\\ipykernel_8572\\2087954168.py:13: SmallSampleWarning: One or more sample arguments is too small; all returned values will be NaN. See documentation for sample size requirements.\n",
      "  stat_A, p_A = stats.shapiro(user_age_A)\n",
      "C:\\Users\\Xinxu\\AppData\\Local\\Temp\\ipykernel_8572\\2087954168.py:14: SmallSampleWarning: One or more sample arguments is too small; all returned values will be NaN. See documentation for sample size requirements.\n",
      "  stat_B, p_B = stats.shapiro(user_age_B)\n",
      "C:\\Users\\Xinxu\\AppData\\Local\\Temp\\ipykernel_8572\\2087954168.py:26: SmallSampleWarning: One or more sample arguments is too small; all returned values will be NaN. See documentation for sample size requirements.\n",
      "  u_stat, p_value = stats.mannwhitneyu(user_age_A, user_age_B, alternative='two-sided')\n"
     ]
    }
   ],
   "source": [
    "import scipy.stats as stats\n",
    "\n",
    "# user_age to extract the user_age in A and B group\n",
    "user_totalUniquePageViews_A = df_metrics_users_csv_cleaned[df_metrics_users_csv_cleaned['ABtest'] == 'A']['user_totalUniquePageviews']\n",
    "user_totalUniquePageViews_B = df_metrics_users_csv_cleaned[df_metrics_users_csv_cleaned['ABtest'] == 'B']['user_totalUniquePageviews']\n",
    "\n",
    "\n",
    "# take out the missing values\n",
    "user_age_A = user_age_A.dropna()\n",
    "user_age_B = user_age_B.dropna()\n",
    "\n",
    "# check whether it's distributed normally\n",
    "stat_A, p_A = stats.shapiro(user_age_A)  \n",
    "stat_B, p_B = stats.shapiro(user_age_B)\n",
    "\n",
    "print(f\"Shapiro-Wilk test p-value for A group: {p_A}\")\n",
    "print(f\"Shapiro-Wilk test p-value for B group: {p_B}\")\n",
    "\n",
    "# select an appropriate statistical approach\n",
    "if p_A > 0.05 and p_B > 0.05:  \n",
    "    # independent t test\n",
    "    t_stat, p_value = stats.ttest_ind(user_age_A, user_age_B, equal_var=False)\n",
    "    test_type = \"t-test\"\n",
    "else:\n",
    "    # Mann-Whitney U test\n",
    "    u_stat, p_value = stats.mannwhitneyu(user_age_A, user_age_B, alternative='two-sided')\n",
    "    test_type = \"Mann-Whitney U test\"\n",
    "\n",
    "# print the statistical approach\n",
    "print(f\"Statistical Test Used: {test_type}\")\n",
    "print(f\"p-value: {p_value}\")\n",
    "\n",
    "# explain\n",
    "alpha = 0.05\n",
    "if p_value < alpha:\n",
    "    print(\"Result: There is a statistically significant difference in user_age between A and B groups.\")\n",
    "else:\n",
    "    print(\"Result: There is no significant difference in user_age between A and B groups.\")"
   ]
  },
  {
   "cell_type": "markdown",
   "metadata": {},
   "source": [
    "There is no significant difference between either of the dependent variables and ABTest groups. Three hypothesis are all rejected. "
   ]
  },
  {
   "cell_type": "markdown",
   "metadata": {},
   "source": [
    "*Below is the model testing outcome*\n",
    "\n",
    "Firstly, I used \"NaN\" to replace \"No_Test\" in case of the occurence of errors. This is because \"No_Test\" is not a part of AB test, as it is the control group. If we run the control group with the AB test, it may induce errors. After that, I used map() to reflect A as \"0\" and B as \"1\" in order to more conveniently process the following steps. In this process, the outcome of the reflection process was stored as \"y\". In order to keep pace with \"0\" and \"1\", I named the NaN value of y as \"-1\". \n",
    "\n",
    "In order to check whether I have done it correctly, I printed the data out. isnull().sum() is for checking whether there is still existence of missing values and whether all No_Test is replaced as -1. y.unique() is to ensure there is only 0, 1 and -1.\n",
    "\n",
    "However, though the outcome shows there is no missing value, there is only -1 (no test) in the dataset. This is problematic and needs refinement. "
   ]
  },
  {
   "cell_type": "code",
   "execution_count": 78,
   "metadata": {},
   "outputs": [
    {
     "name": "stdout",
     "output_type": "stream",
     "text": [
      "0\n",
      "[-1.]\n"
     ]
    }
   ],
   "source": [
    "# No_Test to NaN\n",
    "df_metrics_csv_cleaned['ABtest'] = df_metrics_csv_cleaned['ABtest'].replace('No_Test', np.nan)\n",
    "\n",
    "# reflect\n",
    "y = df_metrics_csv_cleaned['ABtest'].map({'A': 0, 'B': 1})\n",
    "\n",
    "# fill NaN to -1 or other value that can represent control group\n",
    "y.fillna(-1, inplace=True)\n",
    "\n",
    "# check the value after reflection\n",
    "print(y.isnull().sum())  \n",
    "print(y.unique())"
   ]
  },
  {
   "cell_type": "markdown",
   "metadata": {},
   "source": [
    "In the following steps, I revised my codes to make it better. I firstly again imported numpy as np. After that, I did some data cleaning again in case of any potential errors. I cleaned out the the space and capitalization in the dataset and turn \"No_Test\" to NaN and did reflection again, to store A nad B to 0 and 1 and stored them as \"y\" again. After that, I checked whether there is any missing values. I used .isnull().sum() to check the missing values and unique() to check unique values. I used -1 to fill the missing values to represent the control group. After that I checked the outcome. There are 19377 missing values. Also, after refill, all unique values are -1 now, which is still not ideal. This means the problem is not because of the data cleaning, but probably during map. It is probably because there is no proper A and B in df_metrics_csv_cleaned. "
   ]
  },
  {
   "cell_type": "code",
   "execution_count": 79,
   "metadata": {},
   "outputs": [
    {
     "name": "stdout",
     "output_type": "stream",
     "text": [
      "Missing values: 19377\n",
      "Unique values: [nan]\n",
      "Unique values after filling: [-1.]\n"
     ]
    }
   ],
   "source": [
    "import numpy as np\n",
    "\n",
    "# 1. clean the space and the capitalization\n",
    "df_metrics_csv_cleaned['ABtest'] = df_metrics_csv_cleaned['ABtest'].str.strip().str.upper()\n",
    "\n",
    "# 2. turn \"No_Test\" to NaN (control group)\n",
    "df_metrics_csv_cleaned['ABtest'] = df_metrics_csv_cleaned['ABtest'].replace('NO_TEST', np.nan)\n",
    "\n",
    "# 3. reflect A and B to 0 and 1\n",
    "y = df_metrics_csv_cleaned['ABtest'].map({'A': 0, 'B': 1})\n",
    "\n",
    "# 4. check whether there is any missing values\n",
    "print(\"Missing values:\", y.isnull().sum())  \n",
    "print(\"Unique values:\", y.unique())  \n",
    "\n",
    "# 5. use -1 to fill the missing values to represent the control group\n",
    "y.fillna(-1, inplace=True)\n",
    "\n",
    "# 6. check the outcome\n",
    "print(\"Unique values after filling:\", y.unique())  \n"
   ]
  },
  {
   "cell_type": "markdown",
   "metadata": {},
   "source": [
    "There are 19377 missing values, which is a lot for my further analysis. Therefore, I checked where was going wrong. "
   ]
  },
  {
   "cell_type": "code",
   "execution_count": 80,
   "metadata": {},
   "outputs": [
    {
     "name": "stdout",
     "output_type": "stream",
     "text": [
      "['VERSION_B' 'V_A' nan]\n"
     ]
    }
   ],
   "source": [
    "df_metrics_csv_cleaned['ABtest'] = df_metrics_csv_cleaned['ABtest'].str.strip().str.upper()\n",
    "\n",
    "# Check whether there is any other extra values\n",
    "print(df_metrics_csv_cleaned['ABtest'].unique())  # check the only value"
   ]
  },
  {
   "cell_type": "markdown",
   "metadata": {},
   "source": [
    "As stated in the outcome, the mistake leading to my error before is clear. This is because the map was not successful and there are still VERSISON_B and V_A instead of \"B\" and \"A\" in the dataset."
   ]
  },
  {
   "cell_type": "markdown",
   "metadata": {},
   "source": [
    "In the following codes, I tried to reflect \"V_A\" and \"VERSION_B\" to 0 and 1. The outcome shows that this time, the mapping was successful. "
   ]
  },
  {
   "cell_type": "code",
   "execution_count": 81,
   "metadata": {},
   "outputs": [
    {
     "name": "stdout",
     "output_type": "stream",
     "text": [
      "4846\n",
      "[ 1.  0. nan]\n"
     ]
    }
   ],
   "source": [
    "y = df_metrics_csv_cleaned['ABtest'].map({'V_A': 0, 'VERSION_B': 1})\n",
    "\n",
    "# Check the missing values and the unique value\n",
    "print(y.isnull().sum())  # NaN make sure there is no NaN\n",
    "print(y.unique())  # check the unique value"
   ]
  },
  {
   "cell_type": "markdown",
   "metadata": {},
   "source": [
    "4846 missing values is still a lot. I need to run the data cleaning again."
   ]
  },
  {
   "cell_type": "markdown",
   "metadata": {},
   "source": [
    "Cgeck the unique value again, and I can see there is still \"nan\" in it."
   ]
  },
  {
   "cell_type": "code",
   "execution_count": 82,
   "metadata": {},
   "outputs": [
    {
     "name": "stdout",
     "output_type": "stream",
     "text": [
      "['VERSION_B' 'V_A' nan]\n"
     ]
    }
   ],
   "source": [
    "print(df_metrics_csv_cleaned['ABtest'].unique())  "
   ]
  },
  {
   "cell_type": "markdown",
   "metadata": {},
   "source": [
    "I remap V_A and VERSION_B again to 0 and 1."
   ]
  },
  {
   "cell_type": "code",
   "execution_count": 83,
   "metadata": {},
   "outputs": [],
   "source": [
    "y = df_metrics_csv_cleaned['ABtest'].map({'V_A': 0, 'VERSION_B': 1})"
   ]
  },
  {
   "cell_type": "markdown",
   "metadata": {},
   "source": [
    "I used dropna to clean the invalid values."
   ]
  },
  {
   "cell_type": "code",
   "execution_count": 84,
   "metadata": {},
   "outputs": [],
   "source": [
    "df_metrics_csv_cleaned = df_metrics_csv_cleaned.dropna(subset=['ABtest'])"
   ]
  },
  {
   "cell_type": "markdown",
   "metadata": {},
   "source": [
    "I remapped again on the basis of NaN values clearance."
   ]
  },
  {
   "cell_type": "code",
   "execution_count": 85,
   "metadata": {},
   "outputs": [],
   "source": [
    "y = df_metrics_csv_cleaned['ABtest'].map({'V_A': 0, 'VERSION_B': 1})"
   ]
  },
  {
   "cell_type": "markdown",
   "metadata": {},
   "source": [
    "I checked whether there is still any missing values. There is no missing values. "
   ]
  },
  {
   "cell_type": "code",
   "execution_count": 86,
   "metadata": {},
   "outputs": [
    {
     "name": "stdout",
     "output_type": "stream",
     "text": [
      "0\n"
     ]
    }
   ],
   "source": [
    "print(y.isnull().sum())  "
   ]
  },
  {
   "cell_type": "markdown",
   "metadata": {},
   "source": [
    "After cleaning and rearranging the data, we can now start model training.\n",
    "\n",
    "The first step is to use .dropna to ensure X and y have the same number of samples, by dropping the NaN value in the ABtest column. After that, I got rid of the extra lines in df_metrics_users_csv_cleaned dataset by using iloc[] in order to make the lines of both datasets match with each other. After dropping NaN values, we need to re-generate X and y to do the data cleaning process again in case of the errors. The first three processes are the same as the aforementioned process. The reason why I put them down here is to show my logic more clearly. \n",
    "\n",
    "After preparation, we split the data into training data and test data. X_train, X_test, y_train and y_test were equalled to the train_test_split(). The test size is 0.2, which means the test group takes 20% of the whole data. The random_state does not have any specific meaning, so 42 is just a random number I chose. It will not influence the outcome.\n",
    "\n",
    "After all the aforementioned process, random forest was selected to run the test. The n_estomators was 100， which means there are 100 random trees in the random forest model. The random_state was the same as the the split process. After this, I predicted and evaluated the model and printed out the outcome. The accuracy of the model and details were printed out and presented below. "
   ]
  },
  {
   "cell_type": "code",
   "execution_count": 88,
   "metadata": {},
   "outputs": [
    {
     "name": "stdout",
     "output_type": "stream",
     "text": [
      "Accuracy: 0.4932920536635707\n",
      "\n",
      "Classification Report:\n",
      "               precision    recall  f1-score   support\n",
      "\n",
      "           0       0.50      0.50      0.50      1479\n",
      "           1       0.48      0.49      0.49      1428\n",
      "\n",
      "    accuracy                           0.49      2907\n",
      "   macro avg       0.49      0.49      0.49      2907\n",
      "weighted avg       0.49      0.49      0.49      2907\n",
      "\n",
      "\n",
      "Feature Importances:\n",
      " visit_len                              0.905318\n",
      "referral_facebook.com                  0.001575\n",
      "referral_google.com                    0.001651\n",
      "referral_http://adams.com/             0.000081\n",
      "referral_http://aguirre-cooper.biz/    0.000082\n",
      "                                         ...   \n",
      "referral_momondo.com                   0.001311\n",
      "referral_skyscanner.com                0.001571\n",
      "referral_tikto.com                     0.001221\n",
      "referral_tiktok.com                    0.001005\n",
      "referral_whatsapp.com                  0.001181\n",
      "Length: 1045, dtype: float64\n"
     ]
    }
   ],
   "source": [
    "from sklearn.model_selection import train_test_split\n",
    "from sklearn.ensemble import RandomForestClassifier\n",
    "from sklearn.metrics import classification_report, accuracy_score\n",
    "\n",
    "# Drop rows with NaN in the 'ABtest' column\n",
    "df_metrics_csv_cleaned = df_metrics_csv_cleaned.dropna(subset=['ABtest'])\n",
    "\n",
    "# Map 'V_A' to 0 and 'VERSION_B' to 1\n",
    "y = df_metrics_csv_cleaned['ABtest'].map({'V_A': 0, 'VERSION_B': 1})\n",
    "\n",
    "# Select features for model (make sure 'feature' contains valid column names)\n",
    "feature = ['referral', 'visit_len']  # Use your own features here\n",
    "X = pd.get_dummies(df_metrics_csv_cleaned[feature], drop_first=True)\n",
    "\n",
    "# Split the data into training and test sets\n",
    "X_train, X_test, y_train, y_test = train_test_split(X, y, test_size=0.2, random_state=42)\n",
    "\n",
    "# Initialize and train the RandomForestClassifier\n",
    "clf = RandomForestClassifier(n_estimators=100, random_state=42)\n",
    "clf.fit(X_train, y_train)\n",
    "\n",
    "# Make predictions\n",
    "y_pred = clf.predict(X_test)\n",
    "\n",
    "# Evaluate the model\n",
    "print(\"Accuracy:\", accuracy_score(y_test, y_pred))\n",
    "print(\"\\nClassification Report:\\n\", classification_report(y_test, y_pred))\n",
    "\n",
    "# Feature importances\n",
    "feature_importances = pd.Series(clf.feature_importances_, index=X.columns)\n",
    "print(\"\\nFeature Importances:\\n\", feature_importances)\n"
   ]
  },
  {
   "cell_type": "markdown",
   "metadata": {},
   "source": [
    "We can see that the model is not performing well at all. The accuracy is 0.49, lower than 0.50, which means it does not even meet the basic requirements. Also, the F1 scores are respectively 0.50 and 0.49, which are both not very precise. "
   ]
  },
  {
   "cell_type": "markdown",
   "metadata": {},
   "source": [
    "The following codes follow the same logic as above."
   ]
  },
  {
   "cell_type": "code",
   "execution_count": 91,
   "metadata": {},
   "outputs": [
    {
     "name": "stdout",
     "output_type": "stream",
     "text": [
      "Accuracy: 0.5180598555211559\n",
      "\n",
      "Classification Report:\n",
      "               precision    recall  f1-score   support\n",
      "\n",
      "           0       0.52      0.57      0.54      1479\n",
      "           1       0.51      0.47      0.49      1428\n",
      "\n",
      "    accuracy                           0.52      2907\n",
      "   macro avg       0.52      0.52      0.52      2907\n",
      "weighted avg       0.52      0.52      0.52      2907\n",
      "\n",
      "\n",
      "Feature Importances:\n",
      " user_totalUniquePageviews    0.400902\n",
      "user_country_of_origin_AE    0.003569\n",
      "user_country_of_origin_AF    0.003077\n",
      "user_country_of_origin_AG    0.001757\n",
      "user_country_of_origin_AL    0.003898\n",
      "                               ...   \n",
      "user_country_of_origin_WS    0.002780\n",
      "user_country_of_origin_YE    0.002889\n",
      "user_country_of_origin_ZA    0.002456\n",
      "user_country_of_origin_ZM    0.002103\n",
      "user_country_of_origin_ZW    0.002955\n",
      "Length: 195, dtype: float64\n"
     ]
    }
   ],
   "source": [
    "from sklearn.model_selection import train_test_split\n",
    "from sklearn.ensemble import RandomForestClassifier\n",
    "from sklearn.metrics import classification_report, accuracy_score\n",
    "\n",
    "# Drop rows with NaN in the 'ABtest' column in df_metrics_csv_cleaned\n",
    "df_metrics_csv_cleaned = df_metrics_csv_cleaned.dropna(subset=['ABtest'])\n",
    "\n",
    "# Map 'V_A' to 0 and 'VERSION_B' to 1 in ABtest column\n",
    "y = df_metrics_csv_cleaned['ABtest'].map({'V_A': 0, 'VERSION_B': 1})\n",
    "\n",
    "# Merge df_metrics_csv_cleaned and df_metrics_users_csv_cleaned on the common index or a key\n",
    "# Use suffixes to handle the 'ABtest' column conflict\n",
    "df_combined = df_metrics_csv_cleaned.join(df_metrics_users_csv_cleaned, how='inner', rsuffix='_users')\n",
    "\n",
    "# Select features for model (use actual column names from df_metrics_users_csv_cleaned)\n",
    "feature = ['user_country_of_origin', 'user_totalUniquePageviews']  # Adjust to correct columns\n",
    "\n",
    "# Create X with the selected features and drop the first category to avoid multicollinearity\n",
    "X = pd.get_dummies(df_combined[feature], drop_first=True)\n",
    "\n",
    "# Split the data into training and test sets\n",
    "X_train, X_test, y_train, y_test = train_test_split(X, y, test_size=0.2, random_state=42)\n",
    "\n",
    "# Initialize and train the RandomForestClassifier\n",
    "clf = RandomForestClassifier(n_estimators=100, random_state=42)\n",
    "clf.fit(X_train, y_train)\n",
    "\n",
    "# Make predictions\n",
    "y_pred = clf.predict(X_test)\n",
    "\n",
    "# Evaluate the model\n",
    "print(\"Accuracy:\", accuracy_score(y_test, y_pred))\n",
    "print(\"\\nClassification Report:\\n\", classification_report(y_test, y_pred))\n",
    "\n",
    "# Feature importances\n",
    "feature_importances = pd.Series(clf.feature_importances_, index=X.columns)\n",
    "print(\"\\nFeature Importances:\\n\", feature_importances)\n"
   ]
  },
  {
   "cell_type": "markdown",
   "metadata": {},
   "source": [
    "We can see that the model is not performing well at all. The accuracy is 0.51, only a little higher than 0.50, which means it does not even meet the basic requirements. Also, the F1 scores are respectively 0.54 and 0.49, which are both not very precise. "
   ]
  },
  {
   "cell_type": "markdown",
   "metadata": {},
   "source": [
    "Both model training outcomes are not ideal. There is no need to do cross-validation test."
   ]
  },
  {
   "cell_type": "markdown",
   "metadata": {},
   "source": [
    "## Evaluation \n",
    "\n",
    "This section provides the answer to the communication challenge, discussing the results (hypothesis testing) in order to answer the general RQ. Creativity in how to summarize the findings (including visualizations) is a plus.\n",
    "\n",
    "This section also provides a set of implications (i.e., now that we know the answer to the RQ, what does it mean for the organization/process/challenge? what should the organization do?)."
   ]
  },
  {
   "cell_type": "markdown",
   "metadata": {},
   "source": [
    "The communication challenge is to explore whether an emotion-driven or statistical-driven campaign is more effective in promoting anti-racism in Arsenal's online communities. The research question is, \"Can emotion-driven communication influence r/ArsenalFC users’ opinions on racism more than statistical-driven plans?\" The hypothesis suggests that emotion-driven plans (B group) will have a greater impact than statistical-driven plans (A group). The three hypotheses are:\n",
    "\n",
    "H1: Emotion-driven plans will increase users' visit time.  \n",
    "H2: Emotion-driven plans will increase total unique page views.  \n",
    "H3: Older users will engage more with emotion-driven plans.\n",
    "\n",
    "A/B test groups were assigned based on user comments in the subreddit. Data collected included visit_len, referral sources, user age, and country of origin. The main focus was on visit_len to compare how long users stayed on statistical versus emotional content.\n",
    "\n",
    "Results showed that all hypotheses were rejected. There was no evidence that users stayed longer or viewed more pages with either content type. Younger users also showed no significant interest in either type of anti-racism communication. However, univariate tests revealed that most users came from Google and were from the Netherlands. Most users engaging with anti-racism content were aged 33-67. Page views were distributed evenly, and users spent significant time on both content types, with an average of 3000 seconds (50 minutes) spent on each.\n",
    "\n",
    "The findings suggest strong user interest in Arsenal's anti-racism content, especially among middle-aged and older users from the Netherlands. Based on these results, Arsenal could consider the following steps:\n",
    "\n",
    "1. **Target Younger Audiences**: Focus on platforms like Twitter, Instagram, and TikTok to make Gen Z users more engaged and interactive on such topic.\n",
    "2. **Diversify Content**: Offer both statistical and emotional content, as neither was definitively more engaging, but both attracted significant attention.\n",
    "3. **Focus on the Netherlands**: Increase localized content targeting Dutch fans, especially given their active participation in anti-racism discussions.\n",
    "4. **Invest in Google Ads**: Allocate resources to SEO and Google Ads to increase exposure, thus attracting more users to engage in anti-racism discussions.\n",
    "\n",
    "Word Count: 331"
   ]
  },
  {
   "cell_type": "markdown",
   "metadata": {},
   "source": [
    "## Limitations and Next Steps\n",
    "\n",
    "In this section you should discuss all the relevant limitations. This includes the limitations of the analysis and of the data, thus consolidating and extending the discussion already included in the earlier sections (e.g., Data Collection, Data Exploration and Modelling), and what do these limitations mean to the conclusions and to the overall challenge.\n",
    "\n",
    "In other words, make sure that you are at least covering:\n",
    "* The dataset(s) itself, including how the data collection may have created limitations\n",
    "* Limitations associated with the decisions taken during the data understanding & preparation\n",
    "* Limitations about the model and hypothesis testing (including fit, selection of variables)\n",
    "* Alternative interpretations to the findings\n",
    "* You need also to suggest next steps/actions to overcome the most important limitations (as indicated in the assignment criteria)."
   ]
  },
  {
   "cell_type": "markdown",
   "metadata": {},
   "source": [
    "\n",
    "Dataset Limitations:\n",
    " The dataset focuses on users interacting with anti-racism content but excludes those discussing it without direct interaction, like posting a photo or commenting on the content. This exclusion could introduce bias and may not fully represent the opinions of r/ArsenalFC on anti-racism communication.\n",
    "\n",
    "\n",
    "Decision Limitations:\n",
    " To simplify and speed up the process, I removed some columns, which might have affected the model training and ultimately influenced the research outcomes. Additionally, since the two datasets lacked shared columns, I removed extra rows from df_users_metrics_cleaned_csv, which could impact the model’s accuracy.\n",
    "\n",
    "\n",
    "Model Testing:\n",
    " I used get_dummies to process the data, but this could cause issues with numeric variables. Cross-validation wasn’t performed due to the model’s subpar performance. The main limitation was removing rows, and using random_state=42 may have caused an imbalance between the A and B test groups, leading to potential deviations.\n",
    "\n",
    "\n",
    "Alternative Interpretation:\n",
    " The high number of Dutch users doesn't imply Arsenal is more popular in the Netherlands; this could be due to selection bias or researcher preferences. Longer visit times or many page views don’t necessarily indicate more interest, as they might result from confusion over complex content. The lack of young users interacting doesn’t mean disinterest—they may prefer platforms like TikTok or Instagram.\n",
    "\n",
    "\n",
    "Future Improvements:\n",
    " The biggest limitation was cutting extra rows during hypothesis and model testing. To avoid this in the future, I would suggest adding a shared column (e.g., user_id) to merge the datasets effectively.\n",
    "\n",
    "Word Count: 243"
   ]
  },
  {
   "cell_type": "markdown",
   "metadata": {},
   "source": [
    "## Ethical and Normative Considerations\n",
    "\n",
    "This section should discuss the considerations the organization needs to have. Are there ethical or more general normative aspects that need to be taken into account? Drawing directly from the literature discussed in class (and other literature), what should readers of the data analysis be mindful about? Make sure to cite the relevant literature. \n",
    "\n",
    "This discussion can relate to the actual dataset/analysis that was done, to the recommendations/implications, and to the action plan suggested in the previous sections."
   ]
  },
  {
   "cell_type": "markdown",
   "metadata": {},
   "source": [
    "The Ethical Consideration:  \n",
    "\n",
    "According to Dignum (2018), methodologies are needed to clarify stakeholder values, enhancing trust in data processes. To achieve transparency, researchers should explain their data and comply with GDPR (European Parliament, 2016). The data collection process must respect lawfulness, fairness, and transparency. As the researcher, I comply with European data protection laws. Purpose limitation is achieved, as the data is solely for research. To protect sensitive data, especially user IDs, I minimized the dataset by deleting unnecessary columns. After research, I will upload all original documents to a locked University of Amsterdam drive, complying with GDPR storage rules.  \n",
    "\n",
    "Readers should be mindful of several aspects. First, they should assess the reliability of the data source. Bias during selection may influence model performance. Second, they should evaluate representativeness. For example, subreddit users may not fully reflect all Arsenal fans’ opinions on Arsenal’s communication, as most users are over 30, potentially causing generational bias. Finally, biases may arise from data collection methods, such as selecting r/ArsenalFC or specific user types like middle-aged users. These biases not only affect research outcomes but also influence responsibility attribution (Eckhouse et al., 2019).\n",
    "\n",
    "Word Count: 190"
   ]
  },
  {
   "cell_type": "markdown",
   "metadata": {},
   "source": [
    "## References\n",
    "\n",
    "If you use scientific papers, cite them using APA style (and add a reference section at the end). If you are using pieces of code written by someone else, add a comment in the appropriate section and add a link to the source.\n",
    "\n",
    "1. Dignum, V. (2018). Ethics in artificial intelligence: Introduction to the special issue. Ethics and Information Technology, 20, 1–3.\n",
    "2. Eckhouse, L., Lum, K., Conti-Cook, C., & Ciccolini, J. (2019). Layers of bias: A unified approach for understanding problems with risk assessment. Criminal Justice and Behavior, 46(2), 185-209.\n",
    "3. Regulation, P. (2018). General data protection regulation. Intouch, 25, 1-5.\n"
   ]
  },
  {
   "cell_type": "code",
   "execution_count": null,
   "metadata": {},
   "outputs": [],
   "source": []
  }
 ],
 "metadata": {
  "anaconda-cloud": {},
  "kernelspec": {
   "display_name": "Python 3 (ipykernel)",
   "language": "python",
   "name": "python3"
  },
  "language_info": {
   "codemirror_mode": {
    "name": "ipython",
    "version": 3
   },
   "file_extension": ".py",
   "mimetype": "text/x-python",
   "name": "python",
   "nbconvert_exporter": "python",
   "pygments_lexer": "ipython3",
   "version": "3.12.5"
  },
  "latex_envs": {
   "bibliofile": "biblio.bib",
   "cite_by": "apalike",
   "current_citInitial": 1,
   "eqLabelWithNumbers": true,
   "eqNumInitial": 0
  }
 },
 "nbformat": 4,
 "nbformat_minor": 4
}
